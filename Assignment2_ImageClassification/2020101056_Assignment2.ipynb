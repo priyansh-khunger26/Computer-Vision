{
  "cells": [
    {
      "cell_type": "markdown",
      "metadata": {
        "id": "_0gvPdyyXyfj"
      },
      "source": [
        "Name: Priyansh Khunger<br>\n",
        "Roll Number: 2020101056<br>\n",
        "Assignment 2: Image Classification"
      ]
    },
    {
      "cell_type": "code",
      "execution_count": null,
      "metadata": {
        "colab": {
          "base_uri": "https://localhost:8080/"
        },
        "id": "vtynBVPKoxjR",
        "outputId": "ca15f055-0ba1-40d3-8a5c-8be5339d6ed3"
      },
      "outputs": [
        {
          "output_type": "stream",
          "name": "stdout",
          "text": [
            "Collecting wandb\n",
            "  Downloading wandb-0.16.6-py3-none-any.whl (2.2 MB)\n",
            "\u001b[2K     \u001b[90m━━━━━━━━━━━━━━━━━━━━━━━━━━━━━━━━━━━━━━━━\u001b[0m \u001b[32m2.2/2.2 MB\u001b[0m \u001b[31m10.7 MB/s\u001b[0m eta \u001b[36m0:00:00\u001b[0m\n",
            "\u001b[?25hRequirement already satisfied: Click!=8.0.0,>=7.1 in /usr/local/lib/python3.10/dist-packages (from wandb) (8.1.7)\n",
            "Collecting GitPython!=3.1.29,>=1.0.0 (from wandb)\n",
            "  Downloading GitPython-3.1.43-py3-none-any.whl (207 kB)\n",
            "\u001b[2K     \u001b[90m━━━━━━━━━━━━━━━━━━━━━━━━━━━━━━━━━━━━━━━━\u001b[0m \u001b[32m207.3/207.3 kB\u001b[0m \u001b[31m15.9 MB/s\u001b[0m eta \u001b[36m0:00:00\u001b[0m\n",
            "\u001b[?25hRequirement already satisfied: requests<3,>=2.0.0 in /usr/local/lib/python3.10/dist-packages (from wandb) (2.31.0)\n",
            "Requirement already satisfied: psutil>=5.0.0 in /usr/local/lib/python3.10/dist-packages (from wandb) (5.9.5)\n",
            "Collecting sentry-sdk>=1.0.0 (from wandb)\n",
            "  Downloading sentry_sdk-2.1.1-py2.py3-none-any.whl (277 kB)\n",
            "\u001b[2K     \u001b[90m━━━━━━━━━━━━━━━━━━━━━━━━━━━━━━━━━━━━━━━━\u001b[0m \u001b[32m277.3/277.3 kB\u001b[0m \u001b[31m11.7 MB/s\u001b[0m eta \u001b[36m0:00:00\u001b[0m\n",
            "\u001b[?25hCollecting docker-pycreds>=0.4.0 (from wandb)\n",
            "  Downloading docker_pycreds-0.4.0-py2.py3-none-any.whl (9.0 kB)\n",
            "Requirement already satisfied: PyYAML in /usr/local/lib/python3.10/dist-packages (from wandb) (6.0.1)\n",
            "Collecting setproctitle (from wandb)\n",
            "  Downloading setproctitle-1.3.3-cp310-cp310-manylinux_2_5_x86_64.manylinux1_x86_64.manylinux_2_17_x86_64.manylinux2014_x86_64.whl (30 kB)\n",
            "Requirement already satisfied: setuptools in /usr/local/lib/python3.10/dist-packages (from wandb) (67.7.2)\n",
            "Requirement already satisfied: appdirs>=1.4.3 in /usr/local/lib/python3.10/dist-packages (from wandb) (1.4.4)\n",
            "Requirement already satisfied: protobuf!=4.21.0,<5,>=3.19.0 in /usr/local/lib/python3.10/dist-packages (from wandb) (3.20.3)\n",
            "Requirement already satisfied: six>=1.4.0 in /usr/local/lib/python3.10/dist-packages (from docker-pycreds>=0.4.0->wandb) (1.16.0)\n",
            "Collecting gitdb<5,>=4.0.1 (from GitPython!=3.1.29,>=1.0.0->wandb)\n",
            "  Downloading gitdb-4.0.11-py3-none-any.whl (62 kB)\n",
            "\u001b[2K     \u001b[90m━━━━━━━━━━━━━━━━━━━━━━━━━━━━━━━━━━━━━━━━\u001b[0m \u001b[32m62.7/62.7 kB\u001b[0m \u001b[31m6.2 MB/s\u001b[0m eta \u001b[36m0:00:00\u001b[0m\n",
            "\u001b[?25hRequirement already satisfied: charset-normalizer<4,>=2 in /usr/local/lib/python3.10/dist-packages (from requests<3,>=2.0.0->wandb) (3.3.2)\n",
            "Requirement already satisfied: idna<4,>=2.5 in /usr/local/lib/python3.10/dist-packages (from requests<3,>=2.0.0->wandb) (3.7)\n",
            "Requirement already satisfied: urllib3<3,>=1.21.1 in /usr/local/lib/python3.10/dist-packages (from requests<3,>=2.0.0->wandb) (2.0.7)\n",
            "Requirement already satisfied: certifi>=2017.4.17 in /usr/local/lib/python3.10/dist-packages (from requests<3,>=2.0.0->wandb) (2024.2.2)\n",
            "Collecting smmap<6,>=3.0.1 (from gitdb<5,>=4.0.1->GitPython!=3.1.29,>=1.0.0->wandb)\n",
            "  Downloading smmap-5.0.1-py3-none-any.whl (24 kB)\n",
            "Installing collected packages: smmap, setproctitle, sentry-sdk, docker-pycreds, gitdb, GitPython, wandb\n",
            "Successfully installed GitPython-3.1.43 docker-pycreds-0.4.0 gitdb-4.0.11 sentry-sdk-2.1.1 setproctitle-1.3.3 smmap-5.0.1 wandb-0.16.6\n"
          ]
        }
      ],
      "source": [
        "pip install wandb"
      ]
    },
    {
      "cell_type": "markdown",
      "metadata": {
        "id": "Ig0VwTMoX_Y1"
      },
      "source": [
        "Including the necessary libraries"
      ]
    },
    {
      "cell_type": "code",
      "execution_count": null,
      "metadata": {
        "id": "PbUmz9J2z7iW"
      },
      "outputs": [],
      "source": [
        "import torchvision.datasets as datasets\n",
        "import matplotlib.pyplot as plt\n",
        "import cv2\n",
        "import numpy as np\n",
        "from sklearn.cluster import KMeans\n",
        "from torchvision.datasets import MNIST\n",
        "from torchvision.transforms import ToTensor\n",
        "from scipy.spatial import distance\n",
        "from sklearn.svm import LinearSVC\n",
        "from sklearn.metrics import accuracy_score\n",
        "import torch\n",
        "import torch.nn as nn\n",
        "import torch.optim as optim\n",
        "import torchvision\n",
        "import torchvision.transforms as transforms\n",
        "import wandb"
      ]
    },
    {
      "cell_type": "markdown",
      "metadata": {
        "id": "fjDtKyS8YCpA"
      },
      "source": [
        "Loading the MNIST data set from Pytorch"
      ]
    },
    {
      "cell_type": "code",
      "execution_count": null,
      "metadata": {
        "colab": {
          "base_uri": "https://localhost:8080/"
        },
        "id": "e15dMwyavdJt",
        "outputId": "2276f2cf-c3fd-401e-9adf-d270cfc55894"
      },
      "outputs": [
        {
          "name": "stdout",
          "output_type": "stream",
          "text": [
            "Downloading http://yann.lecun.com/exdb/mnist/train-images-idx3-ubyte.gz\n",
            "Failed to download (trying next):\n",
            "HTTP Error 403: Forbidden\n",
            "\n",
            "Downloading https://ossci-datasets.s3.amazonaws.com/mnist/train-images-idx3-ubyte.gz\n",
            "Downloading https://ossci-datasets.s3.amazonaws.com/mnist/train-images-idx3-ubyte.gz to ./data/MNIST/raw/train-images-idx3-ubyte.gz\n"
          ]
        },
        {
          "name": "stderr",
          "output_type": "stream",
          "text": [
            "100%|██████████| 9912422/9912422 [00:00<00:00, 54497505.86it/s]\n"
          ]
        },
        {
          "name": "stdout",
          "output_type": "stream",
          "text": [
            "Extracting ./data/MNIST/raw/train-images-idx3-ubyte.gz to ./data/MNIST/raw\n",
            "\n",
            "Downloading http://yann.lecun.com/exdb/mnist/train-labels-idx1-ubyte.gz\n",
            "Failed to download (trying next):\n",
            "HTTP Error 403: Forbidden\n",
            "\n",
            "Downloading https://ossci-datasets.s3.amazonaws.com/mnist/train-labels-idx1-ubyte.gz\n",
            "Downloading https://ossci-datasets.s3.amazonaws.com/mnist/train-labels-idx1-ubyte.gz to ./data/MNIST/raw/train-labels-idx1-ubyte.gz\n"
          ]
        },
        {
          "name": "stderr",
          "output_type": "stream",
          "text": [
            "100%|██████████| 28881/28881 [00:00<00:00, 1647723.57it/s]\n"
          ]
        },
        {
          "name": "stdout",
          "output_type": "stream",
          "text": [
            "Extracting ./data/MNIST/raw/train-labels-idx1-ubyte.gz to ./data/MNIST/raw\n",
            "\n",
            "Downloading http://yann.lecun.com/exdb/mnist/t10k-images-idx3-ubyte.gz\n",
            "Failed to download (trying next):\n",
            "HTTP Error 403: Forbidden\n",
            "\n",
            "Downloading https://ossci-datasets.s3.amazonaws.com/mnist/t10k-images-idx3-ubyte.gz\n",
            "Downloading https://ossci-datasets.s3.amazonaws.com/mnist/t10k-images-idx3-ubyte.gz to ./data/MNIST/raw/t10k-images-idx3-ubyte.gz\n"
          ]
        },
        {
          "name": "stderr",
          "output_type": "stream",
          "text": [
            "100%|██████████| 1648877/1648877 [00:00<00:00, 9218373.85it/s]\n"
          ]
        },
        {
          "name": "stdout",
          "output_type": "stream",
          "text": [
            "Extracting ./data/MNIST/raw/t10k-images-idx3-ubyte.gz to ./data/MNIST/raw\n",
            "\n",
            "Downloading http://yann.lecun.com/exdb/mnist/t10k-labels-idx1-ubyte.gz\n",
            "Failed to download (trying next):\n",
            "HTTP Error 403: Forbidden\n",
            "\n",
            "Downloading https://ossci-datasets.s3.amazonaws.com/mnist/t10k-labels-idx1-ubyte.gz\n",
            "Downloading https://ossci-datasets.s3.amazonaws.com/mnist/t10k-labels-idx1-ubyte.gz to ./data/MNIST/raw/t10k-labels-idx1-ubyte.gz\n"
          ]
        },
        {
          "name": "stderr",
          "output_type": "stream",
          "text": [
            "100%|██████████| 4542/4542 [00:00<00:00, 3664972.83it/s]"
          ]
        },
        {
          "name": "stdout",
          "output_type": "stream",
          "text": [
            "Extracting ./data/MNIST/raw/t10k-labels-idx1-ubyte.gz to ./data/MNIST/raw\n",
            "\n"
          ]
        },
        {
          "name": "stderr",
          "output_type": "stream",
          "text": [
            "\n"
          ]
        }
      ],
      "source": [
        "train_dataset = datasets.MNIST(root='./data', train=True, download=True, transform=None)\n",
        "test_dataset = datasets.MNIST(root='./data', train=False, download=True, transform=None)"
      ]
    },
    {
      "cell_type": "markdown",
      "metadata": {
        "id": "hx8LAxPaYHbp"
      },
      "source": [
        "Now, going over every image in the training data set and extracting features out of every image and then collecting all the features in a list."
      ]
    },
    {
      "cell_type": "code",
      "execution_count": null,
      "metadata": {
        "id": "2nznsE-4dZyo"
      },
      "outputs": [],
      "source": [
        "sift = cv2.SIFT_create()\n",
        "\n",
        "# Initialize lists to store keypoints and descriptors\n",
        "all_keypoints = []\n",
        "all_descriptors = []\n",
        "\n",
        "# Loop over the entire training dataset\n",
        "for i in range(len(train_dataset)):\n",
        "    # Get the image and its corresponding label\n",
        "    image, label = train_dataset[i]\n",
        "\n",
        "    # Convert the image to numpy array\n",
        "    image = np.array(image)\n",
        "\n",
        "    # Detect keypoints and compute descriptors\n",
        "    keypoints, descriptors = sift.detectAndCompute(image, None)\n",
        "\n",
        "    # Append keypoints and descriptors to lists\n",
        "    if descriptors is not None:\n",
        "      all_keypoints.append(keypoints)\n",
        "      all_descriptors.append(descriptors)"
      ]
    },
    {
      "cell_type": "markdown",
      "metadata": {
        "id": "Eitg4tFNYVGs"
      },
      "source": [
        "Converting the lists into numpy arrays now."
      ]
    },
    {
      "cell_type": "code",
      "execution_count": null,
      "metadata": {
        "id": "Z5RHFXyJDf4O"
      },
      "outputs": [],
      "source": [
        "# Convert the lists of keypoints and descriptors to numpy arrays\n",
        "all_keypoints_array = np.concatenate(all_keypoints)\n",
        "all_descriptors_array = np.concatenate(all_descriptors)"
      ]
    },
    {
      "cell_type": "markdown",
      "metadata": {
        "id": "UmkxZkkWYYPV"
      },
      "source": [
        "Making Visual Words from all the features extracted from the SIFT detector(Cluster Centers). This is done by using K-means Clustering to make the cluster centers."
      ]
    },
    {
      "cell_type": "code",
      "execution_count": null,
      "metadata": {
        "id": "ut_jEhl3d1pn"
      },
      "outputs": [],
      "source": [
        "k = 50\n",
        "kmeans = KMeans(n_clusters=k, n_init='auto')\n",
        "kmeans.fit(all_descriptors_array)\n",
        "\n",
        "# Get cluster centers\n",
        "cluster_centers = kmeans.cluster_centers_"
      ]
    },
    {
      "cell_type": "markdown",
      "metadata": {
        "id": "4bK1_Be9YoMf"
      },
      "source": [
        "Now, for every image in the training data set, we will calculate the histogram with the help of cluster centers which will be further fed in a linear classifier."
      ]
    },
    {
      "cell_type": "code",
      "execution_count": null,
      "metadata": {
        "id": "WWRdIbVAeNaP"
      },
      "outputs": [],
      "source": [
        "# Compute histograms of visual words for each image\n",
        "def compute_histogram(image, k, kmeans):\n",
        "    # Detect keypoints and compute descriptors\n",
        "    image = np.array(image)\n",
        "    _, descriptors = sift.detectAndCompute(image, None)\n",
        "\n",
        "    # Compute histogram\n",
        "    histogram = np.zeros(k)\n",
        "    if descriptors is not None:\n",
        "      labels = kmeans.predict(descriptors)\n",
        "      histogram, _ = np.histogram(labels, bins=range(k+1))\n",
        "    return histogram"
      ]
    },
    {
      "cell_type": "markdown",
      "metadata": {
        "id": "Ppc0hIDBY_4K"
      },
      "source": [
        "Representing histograms for 1st image and the 25th image."
      ]
    },
    {
      "cell_type": "code",
      "execution_count": null,
      "metadata": {
        "colab": {
          "base_uri": "https://localhost:8080/",
          "height": 472
        },
        "id": "Xj8GbDUegSnN",
        "outputId": "502cfeda-2492-4799-ab5e-cd97d627022e"
      },
      "outputs": [
        {
          "data": {
            "image/png": "[encoded data removed]",
            "text/plain": [
              "<Figure size 640x480 with 1 Axes>"
            ]
          },
          "metadata": {},
          "output_type": "display_data"
        }
      ],
      "source": [
        "# Compute histograms for all images in the dataset\n",
        "histograms = []\n",
        "for image, label in train_dataset:\n",
        "    histogram = compute_histogram(image, k, kmeans)\n",
        "    histograms.append(histogram)\n",
        "\n",
        "# Display histogram for the first image (optional)\n",
        "plt.bar(range(k), histograms[0])\n",
        "plt.xlabel('Visual Word')\n",
        "plt.ylabel('Frequency')\n",
        "plt.title('Histogram of Visual Words for First Image')\n",
        "plt.show()"
      ]
    },
    {
      "cell_type": "code",
      "execution_count": null,
      "metadata": {
        "colab": {
          "base_uri": "https://localhost:8080/",
          "height": 472
        },
        "id": "eDyIYDC25oUZ",
        "outputId": "3b1da073-10c8-4cb7-c625-ba2080105c0c"
      },
      "outputs": [
        {
          "data": {
            "image/png": "[encoded data removed]",
            "text/plain": [
              "<Figure size 640x480 with 1 Axes>"
            ]
          },
          "metadata": {},
          "output_type": "display_data"
        }
      ],
      "source": [
        "plt.bar(range(k), histograms[24])\n",
        "plt.xlabel('Visual Word')\n",
        "plt.ylabel('Frequency')\n",
        "plt.title('Histogram of Visual Words for First Image')\n",
        "plt.show()"
      ]
    },
    {
      "cell_type": "markdown",
      "metadata": {
        "id": "idOp7MkXZE70"
      },
      "source": [
        "Now, putting all the histograms in a linear SVM model."
      ]
    },
    {
      "cell_type": "code",
      "execution_count": null,
      "metadata": {
        "colab": {
          "base_uri": "https://localhost:8080/",
          "height": 75
        },
        "id": "WGlZ-Sp-q1pC",
        "outputId": "39368afd-7c2f-408a-ccbd-6355b1924494"
      },
      "outputs": [
        {
          "data": {
            "text/html": [
              "<style>#sk-container-id-2 {color: black;background-color: white;}#sk-container-id-2 pre{padding: 0;}#sk-container-id-2 div.sk-toggleable {background-color: white;}#sk-container-id-2 label.sk-toggleable__label {cursor: pointer;display: block;width: 100%;margin-bottom: 0;padding: 0.3em;box-sizing: border-box;text-align: center;}#sk-container-id-2 label.sk-toggleable__label-arrow:before {content: \"▸\";float: left;margin-right: 0.25em;color: #696969;}#sk-container-id-2 label.sk-toggleable__label-arrow:hover:before {color: black;}#sk-container-id-2 div.sk-estimator:hover label.sk-toggleable__label-arrow:before {color: black;}#sk-container-id-2 div.sk-toggleable__content {max-height: 0;max-width: 0;overflow: hidden;text-align: left;background-color: #f0f8ff;}#sk-container-id-2 div.sk-toggleable__content pre {margin: 0.2em;color: black;border-radius: 0.25em;background-color: #f0f8ff;}#sk-container-id-2 input.sk-toggleable__control:checked~div.sk-toggleable__content {max-height: 200px;max-width: 100%;overflow: auto;}#sk-container-id-2 input.sk-toggleable__control:checked~label.sk-toggleable__label-arrow:before {content: \"▾\";}#sk-container-id-2 div.sk-estimator input.sk-toggleable__control:checked~label.sk-toggleable__label {background-color: #d4ebff;}#sk-container-id-2 div.sk-label input.sk-toggleable__control:checked~label.sk-toggleable__label {background-color: #d4ebff;}#sk-container-id-2 input.sk-hidden--visually {border: 0;clip: rect(1px 1px 1px 1px);clip: rect(1px, 1px, 1px, 1px);height: 1px;margin: -1px;overflow: hidden;padding: 0;position: absolute;width: 1px;}#sk-container-id-2 div.sk-estimator {font-family: monospace;background-color: #f0f8ff;border: 1px dotted black;border-radius: 0.25em;box-sizing: border-box;margin-bottom: 0.5em;}#sk-container-id-2 div.sk-estimator:hover {background-color: #d4ebff;}#sk-container-id-2 div.sk-parallel-item::after {content: \"\";width: 100%;border-bottom: 1px solid gray;flex-grow: 1;}#sk-container-id-2 div.sk-label:hover label.sk-toggleable__label {background-color: #d4ebff;}#sk-container-id-2 div.sk-serial::before {content: \"\";position: absolute;border-left: 1px solid gray;box-sizing: border-box;top: 0;bottom: 0;left: 50%;z-index: 0;}#sk-container-id-2 div.sk-serial {display: flex;flex-direction: column;align-items: center;background-color: white;padding-right: 0.2em;padding-left: 0.2em;position: relative;}#sk-container-id-2 div.sk-item {position: relative;z-index: 1;}#sk-container-id-2 div.sk-parallel {display: flex;align-items: stretch;justify-content: center;background-color: white;position: relative;}#sk-container-id-2 div.sk-item::before, #sk-container-id-2 div.sk-parallel-item::before {content: \"\";position: absolute;border-left: 1px solid gray;box-sizing: border-box;top: 0;bottom: 0;left: 50%;z-index: -1;}#sk-container-id-2 div.sk-parallel-item {display: flex;flex-direction: column;z-index: 1;position: relative;background-color: white;}#sk-container-id-2 div.sk-parallel-item:first-child::after {align-self: flex-end;width: 50%;}#sk-container-id-2 div.sk-parallel-item:last-child::after {align-self: flex-start;width: 50%;}#sk-container-id-2 div.sk-parallel-item:only-child::after {width: 0;}#sk-container-id-2 div.sk-dashed-wrapped {border: 1px dashed gray;margin: 0 0.4em 0.5em 0.4em;box-sizing: border-box;padding-bottom: 0.4em;background-color: white;}#sk-container-id-2 div.sk-label label {font-family: monospace;font-weight: bold;display: inline-block;line-height: 1.2em;}#sk-container-id-2 div.sk-label-container {text-align: center;}#sk-container-id-2 div.sk-container {/* jupyter's `normalize.less` sets `[hidden] { display: none; }` but bootstrap.min.css set `[hidden] { display: none !important; }` so we also need the `!important` here to be able to override the default hidden behavior on the sphinx rendered scikit-learn.org. See: https://github.com/scikit-learn/scikit-learn/issues/21755 */display: inline-block !important;position: relative;}#sk-container-id-2 div.sk-text-repr-fallback {display: none;}</style><div id=\"sk-container-id-2\" class=\"sk-top-container\"><div class=\"sk-text-repr-fallback\"><pre>LinearSVC(max_iter=100000)</pre><b>In a Jupyter environment, please rerun this cell to show the HTML representation or trust the notebook. <br />On GitHub, the HTML representation is unable to render, please try loading this page with nbviewer.org.</b></div><div class=\"sk-container\" hidden><div class=\"sk-item\"><div class=\"sk-estimator sk-toggleable\"><input class=\"sk-toggleable__control sk-hidden--visually\" id=\"sk-estimator-id-2\" type=\"checkbox\" checked><label for=\"sk-estimator-id-2\" class=\"sk-toggleable__label sk-toggleable__label-arrow\">LinearSVC</label><div class=\"sk-toggleable__content\"><pre>LinearSVC(max_iter=100000)</pre></div></div></div></div></div>"
            ],
            "text/plain": [
              "LinearSVC(max_iter=100000)"
            ]
          },
          "execution_count": 43,
          "metadata": {},
          "output_type": "execute_result"
        }
      ],
      "source": [
        "X_train = np.array(histograms)\n",
        "y_train = np.array([target for _, target in train_dataset])\n",
        "\n",
        "# Initialize and train linear SVM model\n",
        "svm_model = LinearSVC(max_iter=100000)\n",
        "svm_model.fit(X_train, y_train)"
      ]
    },
    {
      "cell_type": "code",
      "execution_count": null,
      "metadata": {
        "id": "nDxHDXxf5RCy"
      },
      "outputs": [],
      "source": [
        "histograms_test = []\n",
        "for image, label in test_dataset:\n",
        "  temp = compute_histogram(image, 50, kmeans)\n",
        "  histograms_test.append(temp)"
      ]
    },
    {
      "cell_type": "code",
      "execution_count": null,
      "metadata": {
        "id": "on4BPsMA52gZ"
      },
      "outputs": [],
      "source": [
        "X_test = np.array(histograms_test)\n",
        "y_test = np.array([target for _, target in test_dataset])"
      ]
    },
    {
      "cell_type": "markdown",
      "metadata": {
        "id": "IYUIheR3ZKIS"
      },
      "source": [
        "Calculating the accuracy using a test data set."
      ]
    },
    {
      "cell_type": "code",
      "execution_count": null,
      "metadata": {
        "colab": {
          "base_uri": "https://localhost:8080/"
        },
        "id": "IeGK5ozp588a",
        "outputId": "9b36ad9d-9e85-4288-e739-28a94f35b02e"
      },
      "outputs": [
        {
          "name": "stdout",
          "output_type": "stream",
          "text": [
            "Accuracy: 0.6639\n"
          ]
        }
      ],
      "source": [
        "y_pred = svm_model.predict(X_test)\n",
        "\n",
        "# Calculate accuracy\n",
        "accuracy = accuracy_score(y_test, y_pred)\n",
        "print(\"Accuracy:\", accuracy)"
      ]
    },
    {
      "cell_type": "markdown",
      "metadata": {
        "id": "VvYhtaPiZQ42"
      },
      "source": [
        "Question: 1.2<br> Now,calculating the accuracy for different values of number of cluster centers i.e. different values of k.<br>Further plotting these accuracies using MatplotLib."
      ]
    },
    {
      "cell_type": "code",
      "execution_count": null,
      "metadata": {
        "id": "b3ADAiR4Kl0g"
      },
      "outputs": [],
      "source": [
        "k_values = [1, 2, 5, 10, 20, 50, 100, 200, 500, 1000, 2000]\n",
        "\n",
        "accuracies = []\n",
        "\n",
        "# Iterate over different values of k\n",
        "for k in k_values:\n",
        "\n",
        "    # Perform k-means clustering on training data\n",
        "    kmeans = KMeans(n_clusters=k, n_init='auto')\n",
        "    kmeans.fit(all_descriptors_array)\n",
        "\n",
        "    histogram_train = []\n",
        "    for image, label in train_dataset:\n",
        "      histogram = compute_histogram(image, k, kmeans)\n",
        "      histogram_train.append(histogram)\n",
        "\n",
        "    histogram_test = []\n",
        "    for image, label in test_dataset:\n",
        "      histogram = compute_histogram(image, k, kmeans)\n",
        "      histogram_test.append(histogram)\n",
        "\n",
        "    # Train a linear SVM classifier\n",
        "    train_histograms = np.array(histogram_train)\n",
        "    test_histograms = np.array(histogram_test)\n",
        "\n",
        "    svm_new_model = LinearSVC(max_iter=k*1000000)\n",
        "    svm_new_model.fit(train_histograms, y_train)\n",
        "\n",
        "    # Predict labels on the testing set\n",
        "    y_pred = svm_new_model.predict(test_histograms)\n",
        "\n",
        "    # Calculate classification accuracy and store it\n",
        "    accuracy = accuracy_score(y_test, y_pred)\n",
        "    accuracies.append(accuracy)"
      ]
    },
    {
      "cell_type": "code",
      "execution_count": null,
      "metadata": {
        "colab": {
          "base_uri": "https://localhost:8080/",
          "height": 472
        },
        "id": "bzqaMyS0XFNV",
        "outputId": "296f460b-81af-46fc-b1fb-6f4a6551dc3a"
      },
      "outputs": [
        {
          "data": {
            "image/png": "[encoded data removed]",
            "text/plain": [
              "<Figure size 640x480 with 1 Axes>"
            ]
          },
          "metadata": {},
          "output_type": "display_data"
        }
      ],
      "source": [
        "# Plot the results\n",
        "plt.plot(k_values, accuracies, marker='o')\n",
        "plt.xlabel('Number of Clusters (k)')\n",
        "plt.ylabel('Classification Accuracy')\n",
        "plt.title('Accuracy vs Number of Clusters')\n",
        "plt.grid(True)\n",
        "plt.show()"
      ]
    },
    {
      "cell_type": "markdown",
      "source": [
        "The reason for increased accuracy can be attributed to the fact that when we have more cluster centers, more information can be learned from the images."
      ],
      "metadata": {
        "id": "Esp69Pps8p4P"
      }
    },
    {
      "cell_type": "markdown",
      "source": [
        "Question 1.3<br>So, we changed the parameter of the SIFT detector and SVM in the question.<br>For SIFT, we changed Number of Octave Layers and edgeThreshold which basically means the value of sigma and some features will be extracted based on the detection of edges.<br>So if we have a less of threshold, then it will detect keep more features which are having edges. But in case of a higher threshold, it will ignore the featurs which are having less edgy part in them.<br>And for SVM, we used the Regularisation parameter. For higher values of Regularisation parameter, it basically wants to make the accuracy better but it can lead to overfitting. While lower values focus on maximising the margin."
      ],
      "metadata": {
        "id": "xB_8OYck7UZT"
      }
    },
    {
      "cell_type": "code",
      "execution_count": null,
      "metadata": {
        "id": "LEVQ8bbLXIMF"
      },
      "outputs": [],
      "source": [
        "sift_parameters = [\n",
        "    {'nOctaveLayers': 4, 'edgeThreshold':5.0},\n",
        "    {'nOctaveLayers': 4, 'edgeThreshold':3.0},\n",
        "    {'nOctaveLayers': 5, 'edgeThreshold':5.0},\n",
        "    {'nOctaveLayers': 5, 'edgeThreshold':3.0}\n",
        "]\n",
        "\n",
        "# Define different SVM parameters to explore\n",
        "svm_parameters = [\n",
        "    {'C': 1.0},\n",
        "    {'C': 10.0}\n",
        "]"
      ]
    },
    {
      "cell_type": "code",
      "execution_count": null,
      "metadata": {
        "colab": {
          "base_uri": "https://localhost:8080/"
        },
        "id": "EsUz1HA_LWcE",
        "outputId": "9254fd14-627c-4f14-e518-3c176027c169"
      },
      "outputs": [
        {
          "name": "stdout",
          "output_type": "stream",
          "text": [
            "The accuracy for {'nOctaveLayers': 4, 'edgeThreshold': 5.0} and {'C': 1.0} is 0.6189\n",
            "The accuracy for {'nOctaveLayers': 4, 'edgeThreshold': 5.0} and {'C': 10.0} is 0.6188\n",
            "The accuracy for {'nOctaveLayers': 4, 'edgeThreshold': 3.0} and {'C': 1.0} is 0.5582\n",
            "The accuracy for {'nOctaveLayers': 4, 'edgeThreshold': 3.0} and {'C': 10.0} is 0.5582\n",
            "The accuracy for {'nOctaveLayers': 5, 'edgeThreshold': 5.0} and {'C': 1.0} is 0.636\n",
            "The accuracy for {'nOctaveLayers': 5, 'edgeThreshold': 5.0} and {'C': 10.0} is 0.6361\n",
            "The accuracy for {'nOctaveLayers': 5, 'edgeThreshold': 3.0} and {'C': 1.0} is 0.5632\n",
            "The accuracy for {'nOctaveLayers': 5, 'edgeThreshold': 3.0} and {'C': 10.0} is 0.5632\n"
          ]
        }
      ],
      "source": [
        "new_accuracies = []\n",
        "\n",
        "y_train = np.array([target for _, target in train_dataset])\n",
        "y_test = np.array([target for _, target in test_dataset])\n",
        "\n",
        "# Iterate over different SIFT parameters\n",
        "for sift_params in sift_parameters:\n",
        "  # Initialize SIFT detector with current parameters\n",
        "  sift = cv2.SIFT_create(edgeThreshold=sift_params['edgeThreshold'], nOctaveLayers=sift_params['nOctaveLayers'])\n",
        "\n",
        "  new_keypoints = []\n",
        "  new_descriptors = []\n",
        "\n",
        "  for i in range(len(train_dataset)):\n",
        "    image, label = train_dataset[i]\n",
        "\n",
        "    image = np.array(image)\n",
        "\n",
        "    keypoints, descriptors = sift.detectAndCompute(image, None)\n",
        "\n",
        "    if descriptors is not None:\n",
        "      new_keypoints.append(keypoints)\n",
        "      new_descriptors.append(descriptors)\n",
        "\n",
        "\n",
        "  # Convert the lists of keypoints and descriptors to numpy arrays\n",
        "  new_keypoints_array = np.concatenate(new_keypoints)\n",
        "  new_descriptors_array = np.concatenate(new_descriptors)\n",
        "\n",
        "\n",
        "  k = 50\n",
        "  kmeans = KMeans(n_clusters=k, n_init=\"auto\")\n",
        "  kmeans.fit(new_descriptors_array)\n",
        "\n",
        "  histogram_train = []\n",
        "  for image, label in train_dataset:\n",
        "    histogram = compute_histogram(image, k, kmeans)\n",
        "    histogram_train.append(histogram)\n",
        "\n",
        "  histogram_test = []\n",
        "  for image, label in test_dataset:\n",
        "    histogram = compute_histogram(image, k, kmeans)\n",
        "    histogram_test.append(histogram)\n",
        "\n",
        "  train_histograms = np.array(histogram_train)\n",
        "  test_histograms = np.array(histogram_test)\n",
        "\n",
        "  for svm_params in svm_parameters:\n",
        "    clf = LinearSVC(C=svm_params['C'], max_iter=k*1000000)\n",
        "    clf.fit(train_histograms, y_train)\n",
        "\n",
        "    y_pred = clf.predict(test_histograms)\n",
        "    accuracy = accuracy_score(y_test, y_pred)\n",
        "    print(f\"The accuracy for {sift_params} and {svm_params} is {accuracy}\")\n",
        "    new_accuracies.append(accuracy)"
      ]
    },
    {
      "cell_type": "markdown",
      "source": [
        "Here, we can see that"
      ],
      "metadata": {
        "id": "skGMNjIg7kIg"
      }
    },
    {
      "cell_type": "code",
      "execution_count": null,
      "metadata": {
        "colab": {
          "base_uri": "https://localhost:8080/"
        },
        "id": "d7bG89dxPQjC",
        "outputId": "bd1e8310-08f9-4578-d8f6-8fad02653ad8"
      },
      "outputs": [
        {
          "data": {
            "text/plain": [
              "[0.6189, 0.6188, 0.5582, 0.5582, 0.636, 0.6361, 0.5632, 0.5632]"
            ]
          },
          "execution_count": 8,
          "metadata": {},
          "output_type": "execute_result"
        }
      ],
      "source": [
        "new_accuracies"
      ]
    },
    {
      "cell_type": "markdown",
      "metadata": {
        "id": "pYJc4ehVdWdB"
      },
      "source": [
        "*Question* 2.1"
      ]
    },
    {
      "cell_type": "markdown",
      "source": [
        "Now, here we are going to make the architecture of CNN. We have 2 convolutional layers, relu layers and pooling layers. And then we have a densely connected neural network which will use the information extracted from the convolutional layers and use that for classification purposes."
      ],
      "metadata": {
        "id": "w57wh2ne6r-t"
      }
    },
    {
      "cell_type": "code",
      "execution_count": null,
      "metadata": {
        "id": "YbNVqnYdyXPx"
      },
      "outputs": [],
      "source": [
        "# 2. Define the LeNet architecture\n",
        "class LeNet(nn.Module):\n",
        "    def __init__(self):\n",
        "        super(LeNet, self).__init__()\n",
        "        self.conv1 = nn.Conv2d(1, 6, kernel_size=5)\n",
        "        self.conv2 = nn.Conv2d(6, 16, kernel_size=5)\n",
        "        self.fc1 = nn.Linear(16 * 4 * 4, 120)\n",
        "        self.fc2 = nn.Linear(120, 84)\n",
        "        self.fc3 = nn.Linear(84, 10)\n",
        "\n",
        "    def forward(self, x):\n",
        "        x = torch.relu(self.conv1(x))\n",
        "        x = torch.max_pool2d(x, kernel_size=2, stride=2)\n",
        "        x = torch.relu(self.conv2(x))\n",
        "        x = torch.max_pool2d(x, kernel_size=2, stride=2)\n",
        "        x = x.view(-1, 16 * 4 * 4)\n",
        "        x = torch.relu(self.fc1(x))\n",
        "        x = torch.relu(self.fc2(x))\n",
        "        x = self.fc3(x)\n",
        "        return x"
      ]
    },
    {
      "cell_type": "markdown",
      "source": [
        "Here, we have written the code to transform all the arrays into tensors which can be further fed into the network.<br>Taken a batch size of 64 for the same."
      ],
      "metadata": {
        "id": "Y0amcTW06_DQ"
      }
    },
    {
      "cell_type": "code",
      "execution_count": null,
      "metadata": {
        "id": "HJGKD9lfaV9l"
      },
      "outputs": [],
      "source": [
        "transform = transforms.Compose([\n",
        "    transforms.ToTensor(),\n",
        "    transforms.Normalize((0.5,), (0.5,))\n",
        "])\n",
        "\n",
        "train_dataset = datasets.MNIST(root='./data', train=True, download=True, transform=transform)\n",
        "test_dataset = datasets.MNIST(root='./data', train=False, download=True, transform=transform)\n",
        "\n",
        "train_loader = torch.utils.data.DataLoader(train_dataset, batch_size=64, shuffle=True)\n",
        "test_loader = torch.utils.data.DataLoader(test_dataset, batch_size=64, shuffle=False)"
      ]
    },
    {
      "cell_type": "code",
      "execution_count": null,
      "metadata": {
        "colab": {
          "base_uri": "https://localhost:8080/",
          "height": 215
        },
        "id": "B2rYKARGxQI1",
        "outputId": "7111e0a5-eefd-4662-db00-4ff6fe3b68e5"
      },
      "outputs": [
        {
          "data": {
            "application/javascript": [
              "\n",
              "        window._wandbApiKey = new Promise((resolve, reject) => {\n",
              "            function loadScript(url) {\n",
              "            return new Promise(function(resolve, reject) {\n",
              "                let newScript = document.createElement(\"script\");\n",
              "                newScript.onerror = reject;\n",
              "                newScript.onload = resolve;\n",
              "                document.body.appendChild(newScript);\n",
              "                newScript.src = url;\n",
              "            });\n",
              "            }\n",
              "            loadScript(\"https://cdn.jsdelivr.net/npm/postmate/build/postmate.min.js\").then(() => {\n",
              "            const iframe = document.createElement('iframe')\n",
              "            iframe.style.cssText = \"width:0;height:0;border:none\"\n",
              "            document.body.appendChild(iframe)\n",
              "            const handshake = new Postmate({\n",
              "                container: iframe,\n",
              "                url: 'https://wandb.ai/authorize'\n",
              "            });\n",
              "            const timeout = setTimeout(() => reject(\"Couldn't auto authenticate\"), 5000)\n",
              "            handshake.then(function(child) {\n",
              "                child.on('authorize', data => {\n",
              "                    clearTimeout(timeout)\n",
              "                    resolve(data)\n",
              "                });\n",
              "            });\n",
              "            })\n",
              "        });\n",
              "    "
            ],
            "text/plain": [
              "<IPython.core.display.Javascript object>"
            ]
          },
          "metadata": {},
          "output_type": "display_data"
        },
        {
          "name": "stderr",
          "output_type": "stream",
          "text": [
            "\u001b[34m\u001b[1mwandb\u001b[0m: Logging into wandb.ai. (Learn how to deploy a W&B server locally: https://wandb.me/wandb-server)\n",
            "\u001b[34m\u001b[1mwandb\u001b[0m: You can find your API key in your browser here: https://wandb.ai/authorize\n",
            "wandb: Paste an API key from your profile and hit enter, or press ctrl+c to quit:"
          ]
        },
        {
          "name": "stdout",
          "output_type": "stream",
          "text": [
            " ··········\n"
          ]
        },
        {
          "name": "stderr",
          "output_type": "stream",
          "text": [
            "\u001b[34m\u001b[1mwandb\u001b[0m: Appending key for api.wandb.ai to your netrc file: /root/.netrc\n"
          ]
        },
        {
          "data": {
            "text/html": [
              "Tracking run with wandb version 0.16.6"
            ],
            "text/plain": [
              "<IPython.core.display.HTML object>"
            ]
          },
          "metadata": {},
          "output_type": "display_data"
        },
        {
          "data": {
            "text/html": [
              "Run data is saved locally in <code>/content/wandb/run-20240504_232620-s6k5jx3q</code>"
            ],
            "text/plain": [
              "<IPython.core.display.HTML object>"
            ]
          },
          "metadata": {},
          "output_type": "display_data"
        },
        {
          "data": {
            "text/html": [
              "Syncing run <strong><a href='https://wandb.ai/priyansh_khunger26/digit-recognition/runs/s6k5jx3q' target=\"_blank\">stellar-destroyer-8</a></strong> to <a href='https://wandb.ai/priyansh_khunger26/digit-recognition' target=\"_blank\">Weights & Biases</a> (<a href='https://wandb.me/run' target=\"_blank\">docs</a>)<br/>"
            ],
            "text/plain": [
              "<IPython.core.display.HTML object>"
            ]
          },
          "metadata": {},
          "output_type": "display_data"
        },
        {
          "data": {
            "text/html": [
              " View project at <a href='https://wandb.ai/priyansh_khunger26/digit-recognition' target=\"_blank\">https://wandb.ai/priyansh_khunger26/digit-recognition</a>"
            ],
            "text/plain": [
              "<IPython.core.display.HTML object>"
            ]
          },
          "metadata": {},
          "output_type": "display_data"
        },
        {
          "data": {
            "text/html": [
              " View run at <a href='https://wandb.ai/priyansh_khunger26/digit-recognition/runs/s6k5jx3q' target=\"_blank\">https://wandb.ai/priyansh_khunger26/digit-recognition/runs/s6k5jx3q</a>"
            ],
            "text/plain": [
              "<IPython.core.display.HTML object>"
            ]
          },
          "metadata": {},
          "output_type": "display_data"
        },
        {
          "data": {
            "text/html": [
              "<button onClick=\"this.nextSibling.style.display='block';this.style.display='none';\">Display W&B run</button><iframe src='https://wandb.ai/priyansh_khunger26/digit-recognition/runs/s6k5jx3q?jupyter=true' style='border:none;width:100%;height:420px;display:none;'></iframe>"
            ],
            "text/plain": [
              "<wandb.sdk.wandb_run.Run at 0x7dd33f5cf1c0>"
            ]
          },
          "execution_count": 11,
          "metadata": {},
          "output_type": "execute_result"
        }
      ],
      "source": [
        "wandb.init(project=\"digit-recognition\")"
      ]
    },
    {
      "cell_type": "markdown",
      "source": [
        "Training of the CNN network, but for 1st case, we plotted the functions using MatPlotLib. But changed the same for further networks."
      ],
      "metadata": {
        "id": "rQKrUP-A9rR-"
      }
    },
    {
      "cell_type": "code",
      "execution_count": null,
      "metadata": {
        "id": "2GPSTW_hhHPJ"
      },
      "outputs": [],
      "source": [
        "def train(model, train_loader, criterion, optimizer, epochs=5):\n",
        "    #train_losses = []\n",
        "    for epoch in range(epochs):\n",
        "        running_loss = 0.0\n",
        "        #global_loss = 0.0\n",
        "        for i, data in enumerate(train_loader, 0):\n",
        "            inputs, labels = data\n",
        "            optimizer.zero_grad()\n",
        "            outputs = model(inputs)\n",
        "            loss = criterion(outputs, labels)\n",
        "            loss.backward()\n",
        "            optimizer.step()\n",
        "            running_loss += loss.item()\n",
        "            #global_loss += loss.item()\n",
        "            if i % 100 == 99:\n",
        "                print(f'Epoch: {epoch + 1}, Batch: {i + 1}, Loss: {running_loss / 100}')\n",
        "                running_loss = 0.0\n",
        "        #epoch_loss = global_loss / len(train_loader)\n",
        "        #train_losses.append(epoch_loss)\n",
        "        #wandb.log({\"Training Loss\": epoch_loss, \"epoch\": epoch + 1})\n",
        "\n",
        "\n",
        "    #plt.plot(train_losses)\n",
        "    #plt.xlabel('Epoch')\n",
        "    #plt.ylabel('Training Loss')\n",
        "    #plt.title('Training Loss over Epochs')\n",
        "    #plt.show()\n",
        "    #wandb.watch(model)"
      ]
    },
    {
      "cell_type": "markdown",
      "source": [
        "This function is used to evaluate the model i.e. find its accuracy."
      ],
      "metadata": {
        "id": "m5Fuw_eN937j"
      }
    },
    {
      "cell_type": "code",
      "execution_count": null,
      "metadata": {
        "id": "7coD0XoAhNsD"
      },
      "outputs": [],
      "source": [
        "def evaluate(model, test_loader):\n",
        "    #eval_losses = []\n",
        "    #accuracies = []\n",
        "    eval_loss = 0.0\n",
        "    total = 0\n",
        "    correct = 0\n",
        "    with torch.no_grad():\n",
        "        for data in test_loader:\n",
        "            images, labels = data\n",
        "            outputs = model(images)\n",
        "            loss = criterion(outputs, labels)\n",
        "            #eval_losses.append(loss.item())\n",
        "            eval_loss += loss.item()\n",
        "            _, predicted = torch.max(outputs.data, 1)\n",
        "            total += labels.size(0)\n",
        "            correct += (predicted == labels).sum().item()\n",
        "            # accuracy = correct / total\n",
        "            # accuracies.append(accuracy)\n",
        "    accuracy = correct / total\n",
        "    print(f'Accuracy on test set: {accuracy}')\n",
        "    #wandb.log({\"Evaluation Loss\": eval_loss / len(test_loader), \"Accuracy\": accuracy})\n",
        "    #wandb.watch(model)\n",
        "\n",
        "    # avg_eval_loss = sum(eval_losses) / len(eval_losses)\n",
        "    # avg_accuracy = sum(accuracies) / len(accuracies)\n",
        "    # print(f'Average evaluation loss: {avg_eval_loss}, Average accuracy: {avg_accuracy}')\n",
        "    #plt.plot(eval_losses)\n",
        "    #plt.xlabel('Batch')\n",
        "    #plt.ylabel('Evaluation Loss')\n",
        "    #plt.title('Evaluation Loss per Batch')\n",
        "    #plt.show()\n",
        "    return accuracy"
      ]
    },
    {
      "cell_type": "markdown",
      "source": [
        "Now, making the model with the help of architectture defined above and using a learning rate of 0.001 and Adam Optimiser to train the network."
      ],
      "metadata": {
        "id": "xled5trR990E"
      }
    },
    {
      "cell_type": "code",
      "execution_count": null,
      "metadata": {
        "id": "WMH2T9thxzxc"
      },
      "outputs": [],
      "source": [
        "model = LeNet()\n",
        "criterion = nn.CrossEntropyLoss()\n",
        "optimizer = optim.Adam(model.parameters(), lr=0.001)"
      ]
    },
    {
      "cell_type": "code",
      "execution_count": null,
      "metadata": {
        "colab": {
          "base_uri": "https://localhost:8080/",
          "height": 1000
        },
        "id": "HdqcYgbdhP6D",
        "outputId": "df37c93e-1530-4716-c367-8c5584a84ec1"
      },
      "outputs": [
        {
          "name": "stdout",
          "output_type": "stream",
          "text": [
            "Epoch: 1, Batch: 100, Loss: 1.1762982633709909\n",
            "Epoch: 1, Batch: 200, Loss: 0.3218878117948771\n",
            "Epoch: 1, Batch: 300, Loss: 0.22589463278651237\n",
            "Epoch: 1, Batch: 400, Loss: 0.16472116507589818\n",
            "Epoch: 1, Batch: 500, Loss: 0.15884777676314116\n",
            "Epoch: 1, Batch: 600, Loss: 0.11834718527272343\n",
            "Epoch: 1, Batch: 700, Loss: 0.11818300005048514\n",
            "Epoch: 1, Batch: 800, Loss: 0.10854398760944604\n",
            "Epoch: 1, Batch: 900, Loss: 0.09087754886597395\n",
            "Epoch: 2, Batch: 100, Loss: 0.08332129986956716\n",
            "Epoch: 2, Batch: 200, Loss: 0.079846973689273\n",
            "Epoch: 2, Batch: 300, Loss: 0.08869397313334047\n",
            "Epoch: 2, Batch: 400, Loss: 0.07179498922079802\n",
            "Epoch: 2, Batch: 500, Loss: 0.06657754669431597\n",
            "Epoch: 2, Batch: 600, Loss: 0.07098101516254246\n",
            "Epoch: 2, Batch: 700, Loss: 0.0728835195209831\n",
            "Epoch: 2, Batch: 800, Loss: 0.06157697557704523\n",
            "Epoch: 2, Batch: 900, Loss: 0.06324115012539551\n",
            "Epoch: 3, Batch: 100, Loss: 0.053306819442659616\n",
            "Epoch: 3, Batch: 200, Loss: 0.05656939516309649\n",
            "Epoch: 3, Batch: 300, Loss: 0.04891546252649277\n",
            "Epoch: 3, Batch: 400, Loss: 0.043865930836182086\n",
            "Epoch: 3, Batch: 500, Loss: 0.0582816298562102\n",
            "Epoch: 3, Batch: 600, Loss: 0.05273293478647247\n",
            "Epoch: 3, Batch: 700, Loss: 0.0506490642495919\n",
            "Epoch: 3, Batch: 800, Loss: 0.05154769117361866\n",
            "Epoch: 3, Batch: 900, Loss: 0.05079037630232051\n",
            "Epoch: 4, Batch: 100, Loss: 0.04520035901805386\n",
            "Epoch: 4, Batch: 200, Loss: 0.03842201737803407\n",
            "Epoch: 4, Batch: 300, Loss: 0.047603574560489505\n",
            "Epoch: 4, Batch: 400, Loss: 0.050280782910995185\n",
            "Epoch: 4, Batch: 500, Loss: 0.042671008391771466\n",
            "Epoch: 4, Batch: 600, Loss: 0.045077380102593455\n",
            "Epoch: 4, Batch: 700, Loss: 0.036135338381864134\n",
            "Epoch: 4, Batch: 800, Loss: 0.03519104123872239\n",
            "Epoch: 4, Batch: 900, Loss: 0.03251444839173928\n",
            "Epoch: 5, Batch: 100, Loss: 0.032967535940697415\n",
            "Epoch: 5, Batch: 200, Loss: 0.03253770980576519\n",
            "Epoch: 5, Batch: 300, Loss: 0.03557174529123586\n",
            "Epoch: 5, Batch: 400, Loss: 0.03294604313268792\n",
            "Epoch: 5, Batch: 500, Loss: 0.032857749530812726\n",
            "Epoch: 5, Batch: 600, Loss: 0.03349572122853715\n",
            "Epoch: 5, Batch: 700, Loss: 0.03131312869139947\n",
            "Epoch: 5, Batch: 800, Loss: 0.0373477108264342\n",
            "Epoch: 5, Batch: 900, Loss: 0.037108414613176134\n"
          ]
        },
        {
          "data": {
            "image/png": "[encoded data removed]",
            "text/plain": [
              "<Figure size 640x480 with 1 Axes>"
            ]
          },
          "metadata": {},
          "output_type": "display_data"
        }
      ],
      "source": [
        "train(model, train_loader, criterion, optimizer)"
      ]
    },
    {
      "cell_type": "code",
      "execution_count": null,
      "metadata": {
        "colab": {
          "base_uri": "https://localhost:8080/",
          "height": 489
        },
        "id": "KnFrmgN7hgx1",
        "outputId": "5acd1c8f-fd51-4cd9-fbdf-207c60e84ffe"
      },
      "outputs": [
        {
          "name": "stdout",
          "output_type": "stream",
          "text": [
            "Accuracy on test set: 0.9887\n"
          ]
        },
        {
          "data": {
            "image/png": "[encoded data removed]",
            "text/plain": [
              "<Figure size 640x480 with 1 Axes>"
            ]
          },
          "metadata": {},
          "output_type": "display_data"
        }
      ],
      "source": [
        "new_accuracy = evaluate(model, test_loader)"
      ]
    },
    {
      "cell_type": "markdown",
      "source": [
        "Now, we are making list of batch sizes and learning rates and optimisers we will be using for training the network and see the changes in the accuracy."
      ],
      "metadata": {
        "id": "bYqEcAsP-LV-"
      }
    },
    {
      "cell_type": "code",
      "execution_count": null,
      "metadata": {
        "colab": {
          "base_uri": "https://localhost:8080/"
        },
        "id": "fcWNsLzpyqgK",
        "outputId": "34612d3f-a01c-4902-b314-d0f00a04d248"
      },
      "outputs": [
        {
          "name": "stdout",
          "output_type": "stream",
          "text": [
            "[]\n"
          ]
        }
      ],
      "source": [
        "accuracy_array = []\n",
        "print(accuracy_array)"
      ]
    },
    {
      "cell_type": "code",
      "execution_count": null,
      "metadata": {
        "id": "9TibMt2t8uml"
      },
      "outputs": [],
      "source": [
        "batch_size = [32, 64, 128]\n",
        "\n",
        "learning_rate = [0.001, 0.0001, 0.01]\n",
        "\n",
        "optimiser = [\"Adam\", \"RMSprop\", \"SGD\"]"
      ]
    },
    {
      "cell_type": "code",
      "execution_count": null,
      "metadata": {
        "colab": {
          "base_uri": "https://localhost:8080/"
        },
        "id": "oCCXwkaD9718",
        "outputId": "8536a2b2-1d45-46e0-93bb-4aef8dd31129"
      },
      "outputs": [
        {
          "name": "stdout",
          "output_type": "stream",
          "text": [
            "We are training for batch size 32 and learning rate 0.001 and optimiser Adam\n",
            "Epoch: 1, Batch: 100, Loss: 1.2880865363776683\n",
            "Epoch: 1, Batch: 200, Loss: 0.3435318069905043\n",
            "Epoch: 1, Batch: 300, Loss: 0.23315660711377859\n",
            "Epoch: 1, Batch: 400, Loss: 0.2012010142020881\n",
            "Epoch: 1, Batch: 500, Loss: 0.15702960869297386\n",
            "Epoch: 1, Batch: 600, Loss: 0.13954283881932497\n",
            "Epoch: 1, Batch: 700, Loss: 0.1490240457188338\n",
            "Epoch: 1, Batch: 800, Loss: 0.1290337746683508\n",
            "Epoch: 1, Batch: 900, Loss: 0.1258352660574019\n",
            "Epoch: 1, Batch: 1000, Loss: 0.11082832539919764\n",
            "Epoch: 1, Batch: 1100, Loss: 0.10525154690258205\n",
            "Epoch: 1, Batch: 1200, Loss: 0.1147402334259823\n",
            "Epoch: 1, Batch: 1300, Loss: 0.07698760913219303\n",
            "Epoch: 1, Batch: 1400, Loss: 0.09011481520254165\n",
            "Epoch: 1, Batch: 1500, Loss: 0.1023820479423739\n",
            "Epoch: 1, Batch: 1600, Loss: 0.09370369885582477\n",
            "Epoch: 1, Batch: 1700, Loss: 0.07746812546625734\n",
            "Epoch: 1, Batch: 1800, Loss: 0.07822401382029057\n",
            "Epoch: 2, Batch: 100, Loss: 0.06548838965478353\n",
            "Epoch: 2, Batch: 200, Loss: 0.06940200712997466\n",
            "Epoch: 2, Batch: 300, Loss: 0.06116886805859394\n",
            "Epoch: 2, Batch: 400, Loss: 0.05023032746626996\n",
            "Epoch: 2, Batch: 500, Loss: 0.06933039171504789\n",
            "Epoch: 2, Batch: 600, Loss: 0.07237345776055008\n",
            "Epoch: 2, Batch: 700, Loss: 0.06314676618436352\n",
            "Epoch: 2, Batch: 800, Loss: 0.06917551902355626\n",
            "Epoch: 2, Batch: 900, Loss: 0.051885668312897905\n",
            "Epoch: 2, Batch: 1000, Loss: 0.0698103588889353\n",
            "Epoch: 2, Batch: 1100, Loss: 0.054277338007232175\n",
            "Epoch: 2, Batch: 1200, Loss: 0.07687873544637114\n",
            "Epoch: 2, Batch: 1300, Loss: 0.0652304438687861\n",
            "Epoch: 2, Batch: 1400, Loss: 0.05900759238895262\n",
            "Epoch: 2, Batch: 1500, Loss: 0.0717329331394285\n",
            "Epoch: 2, Batch: 1600, Loss: 0.05956246589717921\n",
            "Epoch: 2, Batch: 1700, Loss: 0.05446908449754119\n",
            "Epoch: 2, Batch: 1800, Loss: 0.06833240145351738\n",
            "Epoch: 3, Batch: 100, Loss: 0.04163171456515556\n",
            "Epoch: 3, Batch: 200, Loss: 0.04797658522147685\n",
            "Epoch: 3, Batch: 300, Loss: 0.042314258881961\n",
            "Epoch: 3, Batch: 400, Loss: 0.041661375526455234\n",
            "Epoch: 3, Batch: 500, Loss: 0.04438940909341909\n",
            "Epoch: 3, Batch: 600, Loss: 0.054266335973079546\n",
            "Epoch: 3, Batch: 700, Loss: 0.04377112739079166\n",
            "Epoch: 3, Batch: 800, Loss: 0.058999175820499655\n",
            "Epoch: 3, Batch: 900, Loss: 0.04303376105541247\n",
            "Epoch: 3, Batch: 1000, Loss: 0.04188931043376215\n",
            "Epoch: 3, Batch: 1100, Loss: 0.04690955011814367\n",
            "Epoch: 3, Batch: 1200, Loss: 0.055546115267206916\n",
            "Epoch: 3, Batch: 1300, Loss: 0.04145691335201263\n",
            "Epoch: 3, Batch: 1400, Loss: 0.043815551735751794\n",
            "Epoch: 3, Batch: 1500, Loss: 0.042208833287586456\n",
            "Epoch: 3, Batch: 1600, Loss: 0.051546992515795864\n",
            "Epoch: 3, Batch: 1700, Loss: 0.044667317776475104\n",
            "Epoch: 3, Batch: 1800, Loss: 0.053754812467377636\n",
            "Epoch: 4, Batch: 100, Loss: 0.036672339116339575\n",
            "Epoch: 4, Batch: 200, Loss: 0.03516735911369324\n",
            "Epoch: 4, Batch: 300, Loss: 0.024115550305723446\n",
            "Epoch: 4, Batch: 400, Loss: 0.03448358701702091\n",
            "Epoch: 4, Batch: 500, Loss: 0.038376677312480754\n",
            "Epoch: 4, Batch: 600, Loss: 0.03264132744807284\n",
            "Epoch: 4, Batch: 700, Loss: 0.03987708954373374\n",
            "Epoch: 4, Batch: 800, Loss: 0.038991391267627476\n",
            "Epoch: 4, Batch: 900, Loss: 0.04955891747202259\n",
            "Epoch: 4, Batch: 1000, Loss: 0.035597693110466934\n",
            "Epoch: 4, Batch: 1100, Loss: 0.05382856920710765\n",
            "Epoch: 4, Batch: 1200, Loss: 0.033840377405576876\n",
            "Epoch: 4, Batch: 1300, Loss: 0.033564695934182966\n",
            "Epoch: 4, Batch: 1400, Loss: 0.029473352360218995\n",
            "Epoch: 4, Batch: 1500, Loss: 0.03155638104115496\n",
            "Epoch: 4, Batch: 1600, Loss: 0.028485715041315415\n",
            "Epoch: 4, Batch: 1700, Loss: 0.04539861100231064\n",
            "Epoch: 4, Batch: 1800, Loss: 0.04544108145229984\n",
            "Epoch: 5, Batch: 100, Loss: 0.029672064626065548\n",
            "Epoch: 5, Batch: 200, Loss: 0.030981607450230514\n",
            "Epoch: 5, Batch: 300, Loss: 0.018859806138061687\n",
            "Epoch: 5, Batch: 400, Loss: 0.029522658677597065\n",
            "Epoch: 5, Batch: 500, Loss: 0.02266202189901378\n",
            "Epoch: 5, Batch: 600, Loss: 0.02638781252724584\n",
            "Epoch: 5, Batch: 700, Loss: 0.02929129334173922\n",
            "Epoch: 5, Batch: 800, Loss: 0.032270419430860786\n",
            "Epoch: 5, Batch: 900, Loss: 0.029675859527196737\n",
            "Epoch: 5, Batch: 1000, Loss: 0.03229726568679325\n",
            "Epoch: 5, Batch: 1100, Loss: 0.04027741622136091\n",
            "Epoch: 5, Batch: 1200, Loss: 0.021514714953518706\n",
            "Epoch: 5, Batch: 1300, Loss: 0.029881258727109526\n",
            "Epoch: 5, Batch: 1400, Loss: 0.03738605123686284\n",
            "Epoch: 5, Batch: 1500, Loss: 0.0401155101704353\n",
            "Epoch: 5, Batch: 1600, Loss: 0.03249083906965097\n",
            "Epoch: 5, Batch: 1700, Loss: 0.02348723764276656\n",
            "Epoch: 5, Batch: 1800, Loss: 0.039139966377078964\n",
            "Accuracy on test set: 0.9892\n",
            "We are training for batch size 32 and learning rate 0.001 and optimiser RMSprop\n",
            "Epoch: 1, Batch: 100, Loss: 0.7627751450240612\n",
            "Epoch: 1, Batch: 200, Loss: 0.23121122684329748\n",
            "Epoch: 1, Batch: 300, Loss: 0.19099416315555573\n",
            "Epoch: 1, Batch: 400, Loss: 0.169718175213784\n",
            "Epoch: 1, Batch: 500, Loss: 0.1318012357596308\n",
            "Epoch: 1, Batch: 600, Loss: 0.12843101311009378\n",
            "Epoch: 1, Batch: 700, Loss: 0.12033796773292124\n",
            "Epoch: 1, Batch: 800, Loss: 0.12185661341995001\n",
            "Epoch: 1, Batch: 900, Loss: 0.09012371555436402\n",
            "Epoch: 1, Batch: 1000, Loss: 0.11180920416954905\n",
            "Epoch: 1, Batch: 1100, Loss: 0.08965999132487923\n",
            "Epoch: 1, Batch: 1200, Loss: 0.08294180417899043\n",
            "Epoch: 1, Batch: 1300, Loss: 0.08513488164171576\n",
            "Epoch: 1, Batch: 1400, Loss: 0.07530982564203441\n",
            "Epoch: 1, Batch: 1500, Loss: 0.08668183574220166\n",
            "Epoch: 1, Batch: 1600, Loss: 0.08081569445086643\n",
            "Epoch: 1, Batch: 1700, Loss: 0.06910228070802987\n",
            "Epoch: 1, Batch: 1800, Loss: 0.06857047517085448\n",
            "Epoch: 2, Batch: 100, Loss: 0.06173116425110493\n",
            "Epoch: 2, Batch: 200, Loss: 0.05290171535511035\n",
            "Epoch: 2, Batch: 300, Loss: 0.06258684979693499\n",
            "Epoch: 2, Batch: 400, Loss: 0.06137882098555565\n",
            "Epoch: 2, Batch: 500, Loss: 0.05656364806578495\n",
            "Epoch: 2, Batch: 600, Loss: 0.05897882263408974\n",
            "Epoch: 2, Batch: 700, Loss: 0.05960658938565757\n",
            "Epoch: 2, Batch: 800, Loss: 0.05620939821703359\n",
            "Epoch: 2, Batch: 900, Loss: 0.046180697501986286\n",
            "Epoch: 2, Batch: 1000, Loss: 0.07748545500391629\n",
            "Epoch: 2, Batch: 1100, Loss: 0.051533729799557476\n",
            "Epoch: 2, Batch: 1200, Loss: 0.06389766841195524\n",
            "Epoch: 2, Batch: 1300, Loss: 0.04374957229592837\n",
            "Epoch: 2, Batch: 1400, Loss: 0.048978858650662004\n",
            "Epoch: 2, Batch: 1500, Loss: 0.053683121554204266\n",
            "Epoch: 2, Batch: 1600, Loss: 0.05793749896925874\n",
            "Epoch: 2, Batch: 1700, Loss: 0.040541340904310344\n",
            "Epoch: 2, Batch: 1800, Loss: 0.060572190650127596\n",
            "Epoch: 3, Batch: 100, Loss: 0.03907540938380407\n",
            "Epoch: 3, Batch: 200, Loss: 0.04008800829062238\n",
            "Epoch: 3, Batch: 300, Loss: 0.03908367197640473\n",
            "Epoch: 3, Batch: 400, Loss: 0.04873167626094073\n",
            "Epoch: 3, Batch: 500, Loss: 0.048555218450492245\n",
            "Epoch: 3, Batch: 600, Loss: 0.044483569465519394\n",
            "Epoch: 3, Batch: 700, Loss: 0.039475192645477365\n",
            "Epoch: 3, Batch: 800, Loss: 0.027865846771601355\n",
            "Epoch: 3, Batch: 900, Loss: 0.04272438670217525\n",
            "Epoch: 3, Batch: 1000, Loss: 0.04639990308234701\n",
            "Epoch: 3, Batch: 1100, Loss: 0.04732395981176524\n",
            "Epoch: 3, Batch: 1200, Loss: 0.031986126377014444\n",
            "Epoch: 3, Batch: 1300, Loss: 0.05187118861533236\n",
            "Epoch: 3, Batch: 1400, Loss: 0.025931155871367084\n",
            "Epoch: 3, Batch: 1500, Loss: 0.049882225098699565\n",
            "Epoch: 3, Batch: 1600, Loss: 0.04692305047647096\n",
            "Epoch: 3, Batch: 1700, Loss: 0.03834181346705009\n",
            "Epoch: 3, Batch: 1800, Loss: 0.03833079052128596\n",
            "Epoch: 4, Batch: 100, Loss: 0.022780946067396144\n",
            "Epoch: 4, Batch: 200, Loss: 0.021418166876537727\n",
            "Epoch: 4, Batch: 300, Loss: 0.0382321015195339\n",
            "Epoch: 4, Batch: 400, Loss: 0.027803684381142377\n",
            "Epoch: 4, Batch: 500, Loss: 0.033511538909078806\n",
            "Epoch: 4, Batch: 600, Loss: 0.03180902265150507\n",
            "Epoch: 4, Batch: 700, Loss: 0.030539381291600876\n",
            "Epoch: 4, Batch: 800, Loss: 0.040790013514051676\n",
            "Epoch: 4, Batch: 900, Loss: 0.02846148751785222\n",
            "Epoch: 4, Batch: 1000, Loss: 0.04430086025386117\n",
            "Epoch: 4, Batch: 1100, Loss: 0.03322391292953398\n",
            "Epoch: 4, Batch: 1200, Loss: 0.03459065211267443\n",
            "Epoch: 4, Batch: 1300, Loss: 0.034412213251489444\n",
            "Epoch: 4, Batch: 1400, Loss: 0.03192785498365993\n",
            "Epoch: 4, Batch: 1500, Loss: 0.03753969067911385\n",
            "Epoch: 4, Batch: 1600, Loss: 0.03141885237564566\n",
            "Epoch: 4, Batch: 1700, Loss: 0.030310669824066282\n",
            "Epoch: 4, Batch: 1800, Loss: 0.030047718876667205\n",
            "Epoch: 5, Batch: 100, Loss: 0.025310022771009244\n",
            "Epoch: 5, Batch: 200, Loss: 0.03070146493242646\n",
            "Epoch: 5, Batch: 300, Loss: 0.023813544571894454\n",
            "Epoch: 5, Batch: 400, Loss: 0.028772900132171344\n",
            "Epoch: 5, Batch: 500, Loss: 0.023476807503393503\n",
            "Epoch: 5, Batch: 600, Loss: 0.020007139238296077\n",
            "Epoch: 5, Batch: 700, Loss: 0.022268763229658362\n",
            "Epoch: 5, Batch: 800, Loss: 0.029832622420144617\n",
            "Epoch: 5, Batch: 900, Loss: 0.018146049813694845\n",
            "Epoch: 5, Batch: 1000, Loss: 0.03829652162483398\n",
            "Epoch: 5, Batch: 1100, Loss: 0.02687163419694116\n",
            "Epoch: 5, Batch: 1200, Loss: 0.019716440431475347\n",
            "Epoch: 5, Batch: 1300, Loss: 0.0243448535785501\n",
            "Epoch: 5, Batch: 1400, Loss: 0.02364519617505721\n",
            "Epoch: 5, Batch: 1500, Loss: 0.03347336490300222\n",
            "Epoch: 5, Batch: 1600, Loss: 0.03311509941479016\n",
            "Epoch: 5, Batch: 1700, Loss: 0.03461554239009274\n",
            "Epoch: 5, Batch: 1800, Loss: 0.027987473661123658\n",
            "Accuracy on test set: 0.9883\n",
            "We are training for batch size 32 and learning rate 0.001 and optimiser SGD\n",
            "Epoch: 1, Batch: 100, Loss: 2.303094301223755\n",
            "Epoch: 1, Batch: 200, Loss: 2.302179033756256\n",
            "Epoch: 1, Batch: 300, Loss: 2.3022775220870972\n",
            "Epoch: 1, Batch: 400, Loss: 2.302643105983734\n",
            "Epoch: 1, Batch: 500, Loss: 2.300645954608917\n",
            "Epoch: 1, Batch: 600, Loss: 2.3003728699684145\n",
            "Epoch: 1, Batch: 700, Loss: 2.3002931928634642\n",
            "Epoch: 1, Batch: 800, Loss: 2.2989158701896666\n",
            "Epoch: 1, Batch: 900, Loss: 2.2982160687446593\n",
            "Epoch: 1, Batch: 1000, Loss: 2.2977499556541443\n",
            "Epoch: 1, Batch: 1100, Loss: 2.297124409675598\n",
            "Epoch: 1, Batch: 1200, Loss: 2.2948799300193787\n",
            "Epoch: 1, Batch: 1300, Loss: 2.295731360912323\n",
            "Epoch: 1, Batch: 1400, Loss: 2.29523743391037\n",
            "Epoch: 1, Batch: 1500, Loss: 2.2929955410957334\n",
            "Epoch: 1, Batch: 1600, Loss: 2.293052568435669\n",
            "Epoch: 1, Batch: 1700, Loss: 2.2903279781341555\n",
            "Epoch: 1, Batch: 1800, Loss: 2.2910365796089174\n",
            "Epoch: 2, Batch: 100, Loss: 2.28835280418396\n",
            "Epoch: 2, Batch: 200, Loss: 2.28836177110672\n",
            "Epoch: 2, Batch: 300, Loss: 2.2869776463508606\n",
            "Epoch: 2, Batch: 400, Loss: 2.2849062132835387\n",
            "Epoch: 2, Batch: 500, Loss: 2.285683100223541\n",
            "Epoch: 2, Batch: 600, Loss: 2.2827535343170164\n",
            "Epoch: 2, Batch: 700, Loss: 2.281002793312073\n",
            "Epoch: 2, Batch: 800, Loss: 2.281552858352661\n",
            "Epoch: 2, Batch: 900, Loss: 2.279438865184784\n",
            "Epoch: 2, Batch: 1000, Loss: 2.278173079490662\n",
            "Epoch: 2, Batch: 1100, Loss: 2.2753639006614685\n",
            "Epoch: 2, Batch: 1200, Loss: 2.2742114949226377\n",
            "Epoch: 2, Batch: 1300, Loss: 2.2716833353042603\n",
            "Epoch: 2, Batch: 1400, Loss: 2.268298480510712\n",
            "Epoch: 2, Batch: 1500, Loss: 2.2672974729537962\n",
            "Epoch: 2, Batch: 1600, Loss: 2.2648236083984377\n",
            "Epoch: 2, Batch: 1700, Loss: 2.2642098808288575\n",
            "Epoch: 2, Batch: 1800, Loss: 2.260961847305298\n",
            "Epoch: 3, Batch: 100, Loss: 2.2551290154457093\n",
            "Epoch: 3, Batch: 200, Loss: 2.249616734981537\n",
            "Epoch: 3, Batch: 300, Loss: 2.2503055334091187\n",
            "Epoch: 3, Batch: 400, Loss: 2.2455339884757994\n",
            "Epoch: 3, Batch: 500, Loss: 2.237812602519989\n",
            "Epoch: 3, Batch: 600, Loss: 2.234817843437195\n",
            "Epoch: 3, Batch: 700, Loss: 2.2323934626579285\n",
            "Epoch: 3, Batch: 800, Loss: 2.220943419933319\n",
            "Epoch: 3, Batch: 900, Loss: 2.2180540990829467\n",
            "Epoch: 3, Batch: 1000, Loss: 2.2055880093574523\n",
            "Epoch: 3, Batch: 1100, Loss: 2.2019482159614565\n",
            "Epoch: 3, Batch: 1200, Loss: 2.189366886615753\n",
            "Epoch: 3, Batch: 1300, Loss: 2.1810621404647828\n",
            "Epoch: 3, Batch: 1400, Loss: 2.1692477202415468\n",
            "Epoch: 3, Batch: 1500, Loss: 2.155646810531616\n",
            "Epoch: 3, Batch: 1600, Loss: 2.1436476278305054\n",
            "Epoch: 3, Batch: 1700, Loss: 2.124246883392334\n",
            "Epoch: 3, Batch: 1800, Loss: 2.0971888446807863\n",
            "Epoch: 4, Batch: 100, Loss: 2.066460658311844\n",
            "Epoch: 4, Batch: 200, Loss: 2.0357844996452332\n",
            "Epoch: 4, Batch: 300, Loss: 1.997892782688141\n",
            "Epoch: 4, Batch: 400, Loss: 1.9575559854507447\n",
            "Epoch: 4, Batch: 500, Loss: 1.9014978051185607\n",
            "Epoch: 4, Batch: 600, Loss: 1.8411223900318145\n",
            "Epoch: 4, Batch: 700, Loss: 1.7930577552318574\n",
            "Epoch: 4, Batch: 800, Loss: 1.7340385568141938\n",
            "Epoch: 4, Batch: 900, Loss: 1.6678410947322846\n",
            "Epoch: 4, Batch: 1000, Loss: 1.579869692325592\n",
            "Epoch: 4, Batch: 1100, Loss: 1.5129094111919403\n",
            "Epoch: 4, Batch: 1200, Loss: 1.44628640294075\n",
            "Epoch: 4, Batch: 1300, Loss: 1.3491971576213837\n",
            "Epoch: 4, Batch: 1400, Loss: 1.2574366891384126\n",
            "Epoch: 4, Batch: 1500, Loss: 1.1669053542613983\n",
            "Epoch: 4, Batch: 1600, Loss: 1.0680612516403198\n",
            "Epoch: 4, Batch: 1700, Loss: 1.0276262205839157\n",
            "Epoch: 4, Batch: 1800, Loss: 0.9414041709899902\n",
            "Epoch: 5, Batch: 100, Loss: 0.84076052069664\n",
            "Epoch: 5, Batch: 200, Loss: 0.8109211456775666\n",
            "Epoch: 5, Batch: 300, Loss: 0.7808428525924682\n",
            "Epoch: 5, Batch: 400, Loss: 0.7159288936853409\n",
            "Epoch: 5, Batch: 500, Loss: 0.6980070638656616\n",
            "Epoch: 5, Batch: 600, Loss: 0.6433283734321594\n",
            "Epoch: 5, Batch: 700, Loss: 0.6237398114800453\n",
            "Epoch: 5, Batch: 800, Loss: 0.6118354177474976\n",
            "Epoch: 5, Batch: 900, Loss: 0.5918809190392494\n",
            "Epoch: 5, Batch: 1000, Loss: 0.5577648884057999\n",
            "Epoch: 5, Batch: 1100, Loss: 0.534161431491375\n",
            "Epoch: 5, Batch: 1200, Loss: 0.5410491766035557\n",
            "Epoch: 5, Batch: 1300, Loss: 0.5174430799484253\n",
            "Epoch: 5, Batch: 1400, Loss: 0.5230873115360737\n",
            "Epoch: 5, Batch: 1500, Loss: 0.5133130405843258\n",
            "Epoch: 5, Batch: 1600, Loss: 0.4969619385898113\n",
            "Epoch: 5, Batch: 1700, Loss: 0.49134040623903275\n",
            "Epoch: 5, Batch: 1800, Loss: 0.4881791044771671\n",
            "Accuracy on test set: 0.8733\n",
            "We are training for batch size 32 and learning rate 0.0001 and optimiser Adam\n",
            "Epoch: 1, Batch: 100, Loss: 2.2697780776023864\n",
            "Epoch: 1, Batch: 200, Loss: 1.9397907316684724\n",
            "Epoch: 1, Batch: 300, Loss: 1.2082490915060042\n",
            "Epoch: 1, Batch: 400, Loss: 0.7518994617462158\n",
            "Epoch: 1, Batch: 500, Loss: 0.6075666320323944\n",
            "Epoch: 1, Batch: 600, Loss: 0.5095303206145764\n",
            "Epoch: 1, Batch: 700, Loss: 0.4636717090010643\n",
            "Epoch: 1, Batch: 800, Loss: 0.4079551002383232\n",
            "Epoch: 1, Batch: 900, Loss: 0.3940427841246128\n",
            "Epoch: 1, Batch: 1000, Loss: 0.374761606156826\n",
            "Epoch: 1, Batch: 1100, Loss: 0.32403220422565937\n",
            "Epoch: 1, Batch: 1200, Loss: 0.32553400233387947\n",
            "Epoch: 1, Batch: 1300, Loss: 0.32440855041146277\n",
            "Epoch: 1, Batch: 1400, Loss: 0.3013000044971704\n",
            "Epoch: 1, Batch: 1500, Loss: 0.28787729114294053\n",
            "Epoch: 1, Batch: 1600, Loss: 0.2712383498996496\n",
            "Epoch: 1, Batch: 1700, Loss: 0.2800797403603792\n",
            "Epoch: 1, Batch: 1800, Loss: 0.2593738577887416\n",
            "Epoch: 2, Batch: 100, Loss: 0.23530954096466303\n",
            "Epoch: 2, Batch: 200, Loss: 0.211986022926867\n",
            "Epoch: 2, Batch: 300, Loss: 0.2204936946928501\n",
            "Epoch: 2, Batch: 400, Loss: 0.20457828506827355\n",
            "Epoch: 2, Batch: 500, Loss: 0.19005959995090962\n",
            "Epoch: 2, Batch: 600, Loss: 0.2036025634780526\n",
            "Epoch: 2, Batch: 700, Loss: 0.19409602783620358\n",
            "Epoch: 2, Batch: 800, Loss: 0.17246959088370203\n",
            "Epoch: 2, Batch: 900, Loss: 0.18770545052364468\n",
            "Epoch: 2, Batch: 1000, Loss: 0.16785011636093258\n",
            "Epoch: 2, Batch: 1100, Loss: 0.19019201580435038\n",
            "Epoch: 2, Batch: 1200, Loss: 0.16085287062451242\n",
            "Epoch: 2, Batch: 1300, Loss: 0.16541359560564162\n",
            "Epoch: 2, Batch: 1400, Loss: 0.166998843383044\n",
            "Epoch: 2, Batch: 1500, Loss: 0.16396034317091107\n",
            "Epoch: 2, Batch: 1600, Loss: 0.1579845978319645\n",
            "Epoch: 2, Batch: 1700, Loss: 0.15276180198416114\n",
            "Epoch: 2, Batch: 1800, Loss: 0.15731257636100054\n",
            "Epoch: 3, Batch: 100, Loss: 0.14685674000531435\n",
            "Epoch: 3, Batch: 200, Loss: 0.1367659118399024\n",
            "Epoch: 3, Batch: 300, Loss: 0.13822994563728572\n",
            "Epoch: 3, Batch: 400, Loss: 0.13363485740497708\n",
            "Epoch: 3, Batch: 500, Loss: 0.1337066273763776\n",
            "Epoch: 3, Batch: 600, Loss: 0.11985374271869659\n",
            "Epoch: 3, Batch: 700, Loss: 0.12264615973457695\n",
            "Epoch: 3, Batch: 800, Loss: 0.12065840476192534\n",
            "Epoch: 3, Batch: 900, Loss: 0.10764093775767833\n",
            "Epoch: 3, Batch: 1000, Loss: 0.11928748909384013\n",
            "Epoch: 3, Batch: 1100, Loss: 0.10609460375271737\n",
            "Epoch: 3, Batch: 1200, Loss: 0.11564329415559768\n",
            "Epoch: 3, Batch: 1300, Loss: 0.13027986594475804\n",
            "Epoch: 3, Batch: 1400, Loss: 0.11323242034763098\n",
            "Epoch: 3, Batch: 1500, Loss: 0.11345288229174912\n",
            "Epoch: 3, Batch: 1600, Loss: 0.11682389128021896\n",
            "Epoch: 3, Batch: 1700, Loss: 0.13164787322282792\n",
            "Epoch: 3, Batch: 1800, Loss: 0.10345880790147931\n",
            "Epoch: 4, Batch: 100, Loss: 0.09185310191474855\n",
            "Epoch: 4, Batch: 200, Loss: 0.11864690469112248\n",
            "Epoch: 4, Batch: 300, Loss: 0.08920928042382002\n",
            "Epoch: 4, Batch: 400, Loss: 0.1052721488988027\n",
            "Epoch: 4, Batch: 500, Loss: 0.11799971583299339\n",
            "Epoch: 4, Batch: 600, Loss: 0.09916586908511818\n",
            "Epoch: 4, Batch: 700, Loss: 0.10225811560638248\n",
            "Epoch: 4, Batch: 800, Loss: 0.09311295652994886\n",
            "Epoch: 4, Batch: 900, Loss: 0.09624942208640277\n",
            "Epoch: 4, Batch: 1000, Loss: 0.10099704557098449\n",
            "Epoch: 4, Batch: 1100, Loss: 0.08866975128185003\n",
            "Epoch: 4, Batch: 1200, Loss: 0.10505710921715945\n",
            "Epoch: 4, Batch: 1300, Loss: 0.0815896449633874\n",
            "Epoch: 4, Batch: 1400, Loss: 0.08147849029395729\n",
            "Epoch: 4, Batch: 1500, Loss: 0.09408014512620866\n",
            "Epoch: 4, Batch: 1600, Loss: 0.10117045330815017\n",
            "Epoch: 4, Batch: 1700, Loss: 0.10293931310065091\n",
            "Epoch: 4, Batch: 1800, Loss: 0.08517633954063059\n",
            "Epoch: 5, Batch: 100, Loss: 0.08200731061864644\n",
            "Epoch: 5, Batch: 200, Loss: 0.08412893556058407\n",
            "Epoch: 5, Batch: 300, Loss: 0.08672717731213198\n",
            "Epoch: 5, Batch: 400, Loss: 0.0871031726617366\n",
            "Epoch: 5, Batch: 500, Loss: 0.10716260033659637\n",
            "Epoch: 5, Batch: 600, Loss: 0.07511862400919199\n",
            "Epoch: 5, Batch: 700, Loss: 0.08216621446423232\n",
            "Epoch: 5, Batch: 800, Loss: 0.08536865500733257\n",
            "Epoch: 5, Batch: 900, Loss: 0.082084746574983\n",
            "Epoch: 5, Batch: 1000, Loss: 0.07329372060950845\n",
            "Epoch: 5, Batch: 1100, Loss: 0.07032309606438503\n",
            "Epoch: 5, Batch: 1200, Loss: 0.07311306041665375\n",
            "Epoch: 5, Batch: 1300, Loss: 0.08523477628594264\n",
            "Epoch: 5, Batch: 1400, Loss: 0.08414126784540713\n",
            "Epoch: 5, Batch: 1500, Loss: 0.07268486325629056\n",
            "Epoch: 5, Batch: 1600, Loss: 0.08529969877097755\n",
            "Epoch: 5, Batch: 1700, Loss: 0.08163084489293397\n",
            "Epoch: 5, Batch: 1800, Loss: 0.07804775178199634\n",
            "Accuracy on test set: 0.9802\n",
            "We are training for batch size 32 and learning rate 0.0001 and optimiser RMSprop\n",
            "Epoch: 1, Batch: 100, Loss: 2.0652154016494753\n",
            "Epoch: 1, Batch: 200, Loss: 1.330427778363228\n",
            "Epoch: 1, Batch: 300, Loss: 0.8773401260375977\n",
            "Epoch: 1, Batch: 400, Loss: 0.6839402538537979\n",
            "Epoch: 1, Batch: 500, Loss: 0.584611479640007\n",
            "Epoch: 1, Batch: 600, Loss: 0.5444871377944946\n",
            "Epoch: 1, Batch: 700, Loss: 0.4813720494508743\n",
            "Epoch: 1, Batch: 800, Loss: 0.4604849223792553\n",
            "Epoch: 1, Batch: 900, Loss: 0.4060367898643017\n",
            "Epoch: 1, Batch: 1000, Loss: 0.3961499264836311\n",
            "Epoch: 1, Batch: 1100, Loss: 0.41579407058656215\n",
            "Epoch: 1, Batch: 1200, Loss: 0.37366248056292534\n",
            "Epoch: 1, Batch: 1300, Loss: 0.35319101862609387\n",
            "Epoch: 1, Batch: 1400, Loss: 0.33855255641043186\n",
            "Epoch: 1, Batch: 1500, Loss: 0.32929911971092224\n",
            "Epoch: 1, Batch: 1600, Loss: 0.28515489161014557\n",
            "Epoch: 1, Batch: 1700, Loss: 0.3147014760226011\n",
            "Epoch: 1, Batch: 1800, Loss: 0.28425687305629255\n",
            "Epoch: 2, Batch: 100, Loss: 0.2637237826362252\n",
            "Epoch: 2, Batch: 200, Loss: 0.24759258650243282\n",
            "Epoch: 2, Batch: 300, Loss: 0.2594374198466539\n",
            "Epoch: 2, Batch: 400, Loss: 0.22935989923775196\n",
            "Epoch: 2, Batch: 500, Loss: 0.2527269694954157\n",
            "Epoch: 2, Batch: 600, Loss: 0.2380414490401745\n",
            "Epoch: 2, Batch: 700, Loss: 0.2525144527480006\n",
            "Epoch: 2, Batch: 800, Loss: 0.21269052628427743\n",
            "Epoch: 2, Batch: 900, Loss: 0.22457806631922722\n",
            "Epoch: 2, Batch: 1000, Loss: 0.21203846793621778\n",
            "Epoch: 2, Batch: 1100, Loss: 0.20275810480117798\n",
            "Epoch: 2, Batch: 1200, Loss: 0.1914761996641755\n",
            "Epoch: 2, Batch: 1300, Loss: 0.20357063941657544\n",
            "Epoch: 2, Batch: 1400, Loss: 0.2075806347280741\n",
            "Epoch: 2, Batch: 1500, Loss: 0.1727284280396998\n",
            "Epoch: 2, Batch: 1600, Loss: 0.16060272440314294\n",
            "Epoch: 2, Batch: 1700, Loss: 0.1694461836107075\n",
            "Epoch: 2, Batch: 1800, Loss: 0.17349680986255409\n",
            "Epoch: 3, Batch: 100, Loss: 0.1478825611434877\n",
            "Epoch: 3, Batch: 200, Loss: 0.146364120002836\n",
            "Epoch: 3, Batch: 300, Loss: 0.16531286196783185\n",
            "Epoch: 3, Batch: 400, Loss: 0.14661126304417849\n",
            "Epoch: 3, Batch: 500, Loss: 0.15304399639368058\n",
            "Epoch: 3, Batch: 600, Loss: 0.1334820189885795\n",
            "Epoch: 3, Batch: 700, Loss: 0.14103941242210566\n",
            "Epoch: 3, Batch: 800, Loss: 0.13986312115564942\n",
            "Epoch: 3, Batch: 900, Loss: 0.14973516743630172\n",
            "Epoch: 3, Batch: 1000, Loss: 0.13809883678331972\n",
            "Epoch: 3, Batch: 1100, Loss: 0.13333338951691986\n",
            "Epoch: 3, Batch: 1200, Loss: 0.14475041545927525\n",
            "Epoch: 3, Batch: 1300, Loss: 0.12081463940441609\n",
            "Epoch: 3, Batch: 1400, Loss: 0.10148637534119188\n",
            "Epoch: 3, Batch: 1500, Loss: 0.1464078292623162\n",
            "Epoch: 3, Batch: 1600, Loss: 0.1259877969417721\n",
            "Epoch: 3, Batch: 1700, Loss: 0.11262178737670184\n",
            "Epoch: 3, Batch: 1800, Loss: 0.108124375436455\n",
            "Epoch: 4, Batch: 100, Loss: 0.10942477330565453\n",
            "Epoch: 4, Batch: 200, Loss: 0.11370413452386856\n",
            "Epoch: 4, Batch: 300, Loss: 0.10446131686680019\n",
            "Epoch: 4, Batch: 400, Loss: 0.09895083020906896\n",
            "Epoch: 4, Batch: 500, Loss: 0.09618057201616466\n",
            "Epoch: 4, Batch: 600, Loss: 0.09892225312069058\n",
            "Epoch: 4, Batch: 700, Loss: 0.11141369143500925\n",
            "Epoch: 4, Batch: 800, Loss: 0.10499373049009592\n",
            "Epoch: 4, Batch: 900, Loss: 0.10232474584132432\n",
            "Epoch: 4, Batch: 1000, Loss: 0.10155736923217773\n",
            "Epoch: 4, Batch: 1100, Loss: 0.10322692492045463\n",
            "Epoch: 4, Batch: 1200, Loss: 0.09712452623993158\n",
            "Epoch: 4, Batch: 1300, Loss: 0.0920567923784256\n",
            "Epoch: 4, Batch: 1400, Loss: 0.09895451623015106\n",
            "Epoch: 4, Batch: 1500, Loss: 0.06950269123539328\n",
            "Epoch: 4, Batch: 1600, Loss: 0.10547721155453474\n",
            "Epoch: 4, Batch: 1700, Loss: 0.09607716031372547\n",
            "Epoch: 4, Batch: 1800, Loss: 0.08753228921443224\n",
            "Epoch: 5, Batch: 100, Loss: 0.0815813072444871\n",
            "Epoch: 5, Batch: 200, Loss: 0.08202071330975741\n",
            "Epoch: 5, Batch: 300, Loss: 0.058968584476970135\n",
            "Epoch: 5, Batch: 400, Loss: 0.08785658345092089\n",
            "Epoch: 5, Batch: 500, Loss: 0.09188903780654073\n",
            "Epoch: 5, Batch: 600, Loss: 0.07459740556310862\n",
            "Epoch: 5, Batch: 700, Loss: 0.08468561943154782\n",
            "Epoch: 5, Batch: 800, Loss: 0.06823115203529596\n",
            "Epoch: 5, Batch: 900, Loss: 0.08848285497166217\n",
            "Epoch: 5, Batch: 1000, Loss: 0.07663932524155825\n",
            "Epoch: 5, Batch: 1100, Loss: 0.09008613456971944\n",
            "Epoch: 5, Batch: 1200, Loss: 0.07673543705604971\n",
            "Epoch: 5, Batch: 1300, Loss: 0.08654116569552571\n",
            "Epoch: 5, Batch: 1400, Loss: 0.07261814732104539\n",
            "Epoch: 5, Batch: 1500, Loss: 0.07711562862619757\n",
            "Epoch: 5, Batch: 1600, Loss: 0.07776362833566963\n",
            "Epoch: 5, Batch: 1700, Loss: 0.08021237150765956\n",
            "Epoch: 5, Batch: 1800, Loss: 0.08890068386681378\n",
            "Accuracy on test set: 0.9782\n",
            "We are training for batch size 32 and learning rate 0.0001 and optimiser SGD\n",
            "Epoch: 1, Batch: 100, Loss: 2.3008300280570984\n",
            "Epoch: 1, Batch: 200, Loss: 2.30456725358963\n",
            "Epoch: 1, Batch: 300, Loss: 2.3033579063415526\n",
            "Epoch: 1, Batch: 400, Loss: 2.300690770149231\n",
            "Epoch: 1, Batch: 500, Loss: 2.3002499532699585\n",
            "Epoch: 1, Batch: 600, Loss: 2.302367730140686\n",
            "Epoch: 1, Batch: 700, Loss: 2.3013140773773193\n",
            "Epoch: 1, Batch: 800, Loss: 2.301015028953552\n",
            "Epoch: 1, Batch: 900, Loss: 2.301156511306763\n",
            "Epoch: 1, Batch: 1000, Loss: 2.301936399936676\n",
            "Epoch: 1, Batch: 1100, Loss: 2.3011196947097776\n",
            "Epoch: 1, Batch: 1200, Loss: 2.30309778213501\n",
            "Epoch: 1, Batch: 1300, Loss: 2.2996094918251035\n",
            "Epoch: 1, Batch: 1400, Loss: 2.301870334148407\n",
            "Epoch: 1, Batch: 1500, Loss: 2.3014588284492494\n",
            "Epoch: 1, Batch: 1600, Loss: 2.3018750500679017\n",
            "Epoch: 1, Batch: 1700, Loss: 2.299410138130188\n",
            "Epoch: 1, Batch: 1800, Loss: 2.298959391117096\n",
            "Epoch: 2, Batch: 100, Loss: 2.302337727546692\n",
            "Epoch: 2, Batch: 200, Loss: 2.3000650668144225\n",
            "Epoch: 2, Batch: 300, Loss: 2.2998361015319824\n",
            "Epoch: 2, Batch: 400, Loss: 2.298978247642517\n",
            "Epoch: 2, Batch: 500, Loss: 2.3011787581443786\n",
            "Epoch: 2, Batch: 600, Loss: 2.299156641960144\n",
            "Epoch: 2, Batch: 700, Loss: 2.299766354560852\n",
            "Epoch: 2, Batch: 800, Loss: 2.300857844352722\n",
            "Epoch: 2, Batch: 900, Loss: 2.2992332339286805\n",
            "Epoch: 2, Batch: 1000, Loss: 2.301569015979767\n",
            "Epoch: 2, Batch: 1100, Loss: 2.3021631455421447\n",
            "Epoch: 2, Batch: 1200, Loss: 2.300286111831665\n",
            "Epoch: 2, Batch: 1300, Loss: 2.298896276950836\n",
            "Epoch: 2, Batch: 1400, Loss: 2.2995667362213137\n",
            "Epoch: 2, Batch: 1500, Loss: 2.2986745405197144\n",
            "Epoch: 2, Batch: 1600, Loss: 2.3003865385055544\n",
            "Epoch: 2, Batch: 1700, Loss: 2.3000168371200562\n",
            "Epoch: 2, Batch: 1800, Loss: 2.297879614830017\n",
            "Epoch: 3, Batch: 100, Loss: 2.3003777718544005\n",
            "Epoch: 3, Batch: 200, Loss: 2.2994130563735964\n",
            "Epoch: 3, Batch: 300, Loss: 2.299858396053314\n",
            "Epoch: 3, Batch: 400, Loss: 2.2990846467018127\n",
            "Epoch: 3, Batch: 500, Loss: 2.2976294207572936\n",
            "Epoch: 3, Batch: 600, Loss: 2.2987922859191894\n",
            "Epoch: 3, Batch: 700, Loss: 2.299866120815277\n",
            "Epoch: 3, Batch: 800, Loss: 2.298183312416077\n",
            "Epoch: 3, Batch: 900, Loss: 2.297719647884369\n",
            "Epoch: 3, Batch: 1000, Loss: 2.2993169617652893\n",
            "Epoch: 3, Batch: 1100, Loss: 2.2983184242248536\n",
            "Epoch: 3, Batch: 1200, Loss: 2.296696336269379\n",
            "Epoch: 3, Batch: 1300, Loss: 2.2991793036460875\n",
            "Epoch: 3, Batch: 1400, Loss: 2.3012841534614563\n",
            "Epoch: 3, Batch: 1500, Loss: 2.296638445854187\n",
            "Epoch: 3, Batch: 1600, Loss: 2.298325536251068\n",
            "Epoch: 3, Batch: 1700, Loss: 2.2992084074020385\n",
            "Epoch: 3, Batch: 1800, Loss: 2.298618154525757\n",
            "Epoch: 4, Batch: 100, Loss: 2.2989274644851685\n",
            "Epoch: 4, Batch: 200, Loss: 2.2983385944366455\n",
            "Epoch: 4, Batch: 300, Loss: 2.2982836771011352\n",
            "Epoch: 4, Batch: 400, Loss: 2.2995530796051025\n",
            "Epoch: 4, Batch: 500, Loss: 2.2981497192382814\n",
            "Epoch: 4, Batch: 600, Loss: 2.2953160762786866\n",
            "Epoch: 4, Batch: 700, Loss: 2.299190604686737\n",
            "Epoch: 4, Batch: 800, Loss: 2.299059555530548\n",
            "Epoch: 4, Batch: 900, Loss: 2.295967915058136\n",
            "Epoch: 4, Batch: 1000, Loss: 2.296793644428253\n",
            "Epoch: 4, Batch: 1100, Loss: 2.2970423007011416\n",
            "Epoch: 4, Batch: 1200, Loss: 2.29723931312561\n",
            "Epoch: 4, Batch: 1300, Loss: 2.2965307521820066\n",
            "Epoch: 4, Batch: 1400, Loss: 2.2963216948509215\n",
            "Epoch: 4, Batch: 1500, Loss: 2.2965394330024718\n",
            "Epoch: 4, Batch: 1600, Loss: 2.29661345243454\n",
            "Epoch: 4, Batch: 1700, Loss: 2.2980718326568605\n",
            "Epoch: 4, Batch: 1800, Loss: 2.2962010526657104\n",
            "Epoch: 5, Batch: 100, Loss: 2.2973029732704164\n",
            "Epoch: 5, Batch: 200, Loss: 2.295231726169586\n",
            "Epoch: 5, Batch: 300, Loss: 2.296318507194519\n",
            "Epoch: 5, Batch: 400, Loss: 2.294933216571808\n",
            "Epoch: 5, Batch: 500, Loss: 2.298118734359741\n",
            "Epoch: 5, Batch: 600, Loss: 2.296919057369232\n",
            "Epoch: 5, Batch: 700, Loss: 2.2938380098342894\n",
            "Epoch: 5, Batch: 800, Loss: 2.297692337036133\n",
            "Epoch: 5, Batch: 900, Loss: 2.2970957016944884\n",
            "Epoch: 5, Batch: 1000, Loss: 2.296635603904724\n",
            "Epoch: 5, Batch: 1100, Loss: 2.2966069293022158\n",
            "Epoch: 5, Batch: 1200, Loss: 2.2961479091644286\n",
            "Epoch: 5, Batch: 1300, Loss: 2.2944799184799196\n",
            "Epoch: 5, Batch: 1400, Loss: 2.2942594122886657\n",
            "Epoch: 5, Batch: 1500, Loss: 2.294655833244324\n",
            "Epoch: 5, Batch: 1600, Loss: 2.296595711708069\n",
            "Epoch: 5, Batch: 1700, Loss: 2.296133077144623\n",
            "Epoch: 5, Batch: 1800, Loss: 2.294952313899994\n",
            "Accuracy on test set: 0.1327\n",
            "We are training for batch size 32 and learning rate 0.01 and optimiser Adam\n",
            "Epoch: 1, Batch: 100, Loss: 0.7141118237376213\n",
            "Epoch: 1, Batch: 200, Loss: 0.24281106108799577\n",
            "Epoch: 1, Batch: 300, Loss: 0.22353572830790655\n",
            "Epoch: 1, Batch: 400, Loss: 0.17940808951854706\n",
            "Epoch: 1, Batch: 500, Loss: 0.16239193169400096\n",
            "Epoch: 1, Batch: 600, Loss: 0.18590831465087831\n",
            "Epoch: 1, Batch: 700, Loss: 0.15969300309661777\n",
            "Epoch: 1, Batch: 800, Loss: 0.14492777285980993\n",
            "Epoch: 1, Batch: 900, Loss: 0.19471549808979036\n",
            "Epoch: 1, Batch: 1000, Loss: 0.18753715995931997\n",
            "Epoch: 1, Batch: 1100, Loss: 0.1444391151133459\n",
            "Epoch: 1, Batch: 1200, Loss: 0.16568524424219505\n",
            "Epoch: 1, Batch: 1300, Loss: 0.1601382212759927\n",
            "Epoch: 1, Batch: 1400, Loss: 0.16411768427002243\n",
            "Epoch: 1, Batch: 1500, Loss: 0.127738668511156\n",
            "Epoch: 1, Batch: 1600, Loss: 0.11407291664916556\n",
            "Epoch: 1, Batch: 1700, Loss: 0.12204803157364949\n",
            "Epoch: 1, Batch: 1800, Loss: 0.1426683454652084\n",
            "Epoch: 2, Batch: 100, Loss: 0.1350480949919438\n",
            "Epoch: 2, Batch: 200, Loss: 0.10674886514869286\n",
            "Epoch: 2, Batch: 300, Loss: 0.14459673574485352\n",
            "Epoch: 2, Batch: 400, Loss: 0.13250133180699777\n",
            "Epoch: 2, Batch: 500, Loss: 0.13497098370222374\n",
            "Epoch: 2, Batch: 600, Loss: 0.15803575598984027\n",
            "Epoch: 2, Batch: 700, Loss: 0.14322195672546514\n",
            "Epoch: 2, Batch: 800, Loss: 0.13850413454230875\n",
            "Epoch: 2, Batch: 900, Loss: 0.11310300027951598\n",
            "Epoch: 2, Batch: 1000, Loss: 0.12838827980769565\n",
            "Epoch: 2, Batch: 1100, Loss: 0.125358176867594\n",
            "Epoch: 2, Batch: 1200, Loss: 0.1277096211144817\n",
            "Epoch: 2, Batch: 1300, Loss: 0.11388403267919785\n",
            "Epoch: 2, Batch: 1400, Loss: 0.11511558412224986\n",
            "Epoch: 2, Batch: 1500, Loss: 0.14436184540158137\n",
            "Epoch: 2, Batch: 1600, Loss: 0.14949051200877875\n",
            "Epoch: 2, Batch: 1700, Loss: 0.11149618246476166\n",
            "Epoch: 2, Batch: 1800, Loss: 0.15355766401218715\n",
            "Epoch: 3, Batch: 100, Loss: 0.15950814249692485\n",
            "Epoch: 3, Batch: 200, Loss: 0.14627038988051935\n",
            "Epoch: 3, Batch: 300, Loss: 0.16955046998918988\n",
            "Epoch: 3, Batch: 400, Loss: 0.10946357716049533\n",
            "Epoch: 3, Batch: 500, Loss: 0.12949110170360656\n",
            "Epoch: 3, Batch: 600, Loss: 0.1374454419245012\n",
            "Epoch: 3, Batch: 700, Loss: 0.10623634149378632\n",
            "Epoch: 3, Batch: 800, Loss: 0.13707575188367627\n",
            "Epoch: 3, Batch: 900, Loss: 0.14706692689680495\n",
            "Epoch: 3, Batch: 1000, Loss: 0.09409212128895889\n",
            "Epoch: 3, Batch: 1100, Loss: 0.15213133746641688\n",
            "Epoch: 3, Batch: 1200, Loss: 0.12445205275317676\n",
            "Epoch: 3, Batch: 1300, Loss: 0.16769918912730644\n",
            "Epoch: 3, Batch: 1400, Loss: 0.13658611524502703\n",
            "Epoch: 3, Batch: 1500, Loss: 0.12946806726067733\n",
            "Epoch: 3, Batch: 1600, Loss: 0.155040221826639\n",
            "Epoch: 3, Batch: 1700, Loss: 0.12611290623724927\n",
            "Epoch: 3, Batch: 1800, Loss: 0.14320435548666866\n",
            "Epoch: 4, Batch: 100, Loss: 0.1484652779789758\n",
            "Epoch: 4, Batch: 200, Loss: 0.09762414337732479\n",
            "Epoch: 4, Batch: 300, Loss: 0.13300409778836184\n",
            "Epoch: 4, Batch: 400, Loss: 0.1332246528507676\n",
            "Epoch: 4, Batch: 500, Loss: 0.14959375936276045\n",
            "Epoch: 4, Batch: 600, Loss: 0.11649723491023906\n",
            "Epoch: 4, Batch: 700, Loss: 0.16235995753293536\n",
            "Epoch: 4, Batch: 800, Loss: 0.14319926221302012\n",
            "Epoch: 4, Batch: 900, Loss: 0.13194233427057042\n",
            "Epoch: 4, Batch: 1000, Loss: 0.12863418390916195\n",
            "Epoch: 4, Batch: 1100, Loss: 0.1298401776443825\n",
            "Epoch: 4, Batch: 1200, Loss: 0.12087361903588317\n",
            "Epoch: 4, Batch: 1300, Loss: 0.10929159526061995\n",
            "Epoch: 4, Batch: 1400, Loss: 0.12327797397232644\n",
            "Epoch: 4, Batch: 1500, Loss: 0.10973623387340922\n",
            "Epoch: 4, Batch: 1600, Loss: 0.13354115370952058\n",
            "Epoch: 4, Batch: 1700, Loss: 0.13438211747212336\n",
            "Epoch: 4, Batch: 1800, Loss: 0.10535792118884274\n",
            "Epoch: 5, Batch: 100, Loss: 0.13594299808419236\n",
            "Epoch: 5, Batch: 200, Loss: 0.1264498994560563\n",
            "Epoch: 5, Batch: 300, Loss: 0.125744690060601\n",
            "Epoch: 5, Batch: 400, Loss: 0.11553875834049222\n",
            "Epoch: 5, Batch: 500, Loss: 0.1704670773645921\n",
            "Epoch: 5, Batch: 600, Loss: 0.1331824607008093\n",
            "Epoch: 5, Batch: 700, Loss: 0.1275902746396605\n",
            "Epoch: 5, Batch: 800, Loss: 0.11963629819278139\n",
            "Epoch: 5, Batch: 900, Loss: 0.13820924015933997\n",
            "Epoch: 5, Batch: 1000, Loss: 0.12145420781598659\n",
            "Epoch: 5, Batch: 1100, Loss: 0.1669105581776239\n",
            "Epoch: 5, Batch: 1200, Loss: 0.15594558149197837\n",
            "Epoch: 5, Batch: 1300, Loss: 0.10970365881577891\n",
            "Epoch: 5, Batch: 1400, Loss: 0.10791811982402578\n",
            "Epoch: 5, Batch: 1500, Loss: 0.0789704663300654\n",
            "Epoch: 5, Batch: 1600, Loss: 0.12624454871212948\n",
            "Epoch: 5, Batch: 1700, Loss: 0.0885402160583908\n",
            "Epoch: 5, Batch: 1800, Loss: 0.10934355504665291\n",
            "Accuracy on test set: 0.9725\n",
            "We are training for batch size 32 and learning rate 0.01 and optimiser RMSprop\n",
            "Epoch: 1, Batch: 100, Loss: 23.01031876862049\n",
            "Epoch: 1, Batch: 200, Loss: 0.49162952352315187\n",
            "Epoch: 1, Batch: 300, Loss: 0.3423677138239145\n",
            "Epoch: 1, Batch: 400, Loss: 0.31623836332932115\n",
            "Epoch: 1, Batch: 500, Loss: 0.26528114032000305\n",
            "Epoch: 1, Batch: 600, Loss: 0.25340571781620386\n",
            "Epoch: 1, Batch: 700, Loss: 0.21568150902632624\n",
            "Epoch: 1, Batch: 800, Loss: 0.23390952625311912\n",
            "Epoch: 1, Batch: 900, Loss: 0.2437932481430471\n",
            "Epoch: 1, Batch: 1000, Loss: 0.20746074210852383\n",
            "Epoch: 1, Batch: 1100, Loss: 0.2195001789368689\n",
            "Epoch: 1, Batch: 1200, Loss: 0.2133849021862261\n",
            "Epoch: 1, Batch: 1300, Loss: 0.17694966644747182\n",
            "Epoch: 1, Batch: 1400, Loss: 0.19128550607711076\n",
            "Epoch: 1, Batch: 1500, Loss: 0.21669193098321557\n",
            "Epoch: 1, Batch: 1600, Loss: 0.19864760159514844\n",
            "Epoch: 1, Batch: 1700, Loss: 0.1964070071047172\n",
            "Epoch: 1, Batch: 1800, Loss: 0.14263008804060517\n",
            "Epoch: 2, Batch: 100, Loss: 0.1565832176944241\n",
            "Epoch: 2, Batch: 200, Loss: 0.14894587063929066\n",
            "Epoch: 2, Batch: 300, Loss: 0.1631732401950285\n",
            "Epoch: 2, Batch: 400, Loss: 0.14688040039967745\n",
            "Epoch: 2, Batch: 500, Loss: 0.19753996809013188\n",
            "Epoch: 2, Batch: 600, Loss: 0.16084626287207357\n",
            "Epoch: 2, Batch: 700, Loss: 0.14533949108881644\n",
            "Epoch: 2, Batch: 800, Loss: 0.15514765933621674\n",
            "Epoch: 2, Batch: 900, Loss: 0.15856411942397244\n",
            "Epoch: 2, Batch: 1000, Loss: 0.16327920928248205\n",
            "Epoch: 2, Batch: 1100, Loss: 0.16895750639610924\n",
            "Epoch: 2, Batch: 1200, Loss: 0.15751712925266476\n",
            "Epoch: 2, Batch: 1300, Loss: 0.15390236294013449\n",
            "Epoch: 2, Batch: 1400, Loss: 0.18060212989803404\n",
            "Epoch: 2, Batch: 1500, Loss: 0.13583085888589266\n",
            "Epoch: 2, Batch: 1600, Loss: 0.1523445961624384\n",
            "Epoch: 2, Batch: 1700, Loss: 0.1183053762227064\n",
            "Epoch: 2, Batch: 1800, Loss: 0.20085286139161326\n",
            "Epoch: 3, Batch: 100, Loss: 0.13051914204203058\n",
            "Epoch: 3, Batch: 200, Loss: 0.17890537315281108\n",
            "Epoch: 3, Batch: 300, Loss: 0.17413367348606698\n",
            "Epoch: 3, Batch: 400, Loss: 0.15348008783708791\n",
            "Epoch: 3, Batch: 500, Loss: 0.12223543326370417\n",
            "Epoch: 3, Batch: 600, Loss: 0.1636328669136856\n",
            "Epoch: 3, Batch: 700, Loss: 0.17008139655925333\n",
            "Epoch: 3, Batch: 800, Loss: 0.1374793744791532\n",
            "Epoch: 3, Batch: 900, Loss: 0.16030102518154307\n",
            "Epoch: 3, Batch: 1000, Loss: 0.15026112418156118\n",
            "Epoch: 3, Batch: 1100, Loss: 0.1651444046711549\n",
            "Epoch: 3, Batch: 1200, Loss: 0.17580261407390935\n",
            "Epoch: 3, Batch: 1300, Loss: 0.13170518590603023\n",
            "Epoch: 3, Batch: 1400, Loss: 0.1629029927123338\n",
            "Epoch: 3, Batch: 1500, Loss: 0.18261228451738135\n",
            "Epoch: 3, Batch: 1600, Loss: 0.12901180779444985\n",
            "Epoch: 3, Batch: 1700, Loss: 0.14530548323062248\n",
            "Epoch: 3, Batch: 1800, Loss: 0.12412959453184158\n",
            "Epoch: 4, Batch: 100, Loss: 0.13190968974900896\n",
            "Epoch: 4, Batch: 200, Loss: 0.14309241110975562\n",
            "Epoch: 4, Batch: 300, Loss: 0.1346323732791643\n",
            "Epoch: 4, Batch: 400, Loss: 0.18439135754364544\n",
            "Epoch: 4, Batch: 500, Loss: 0.15297142353032542\n",
            "Epoch: 4, Batch: 600, Loss: 0.17770224293519277\n",
            "Epoch: 4, Batch: 700, Loss: 0.13822887150919996\n",
            "Epoch: 4, Batch: 800, Loss: 0.13681694019353016\n",
            "Epoch: 4, Batch: 900, Loss: 0.1863033804553561\n",
            "Epoch: 4, Batch: 1000, Loss: 0.2301399615322589\n",
            "Epoch: 4, Batch: 1100, Loss: 0.12615390270831994\n",
            "Epoch: 4, Batch: 1200, Loss: 0.14947354052215814\n",
            "Epoch: 4, Batch: 1300, Loss: 0.1639106479723705\n",
            "Epoch: 4, Batch: 1400, Loss: 0.15006543061637787\n",
            "Epoch: 4, Batch: 1500, Loss: 0.13875233144150115\n",
            "Epoch: 4, Batch: 1600, Loss: 0.14204377234564164\n",
            "Epoch: 4, Batch: 1700, Loss: 0.14404645374277605\n",
            "Epoch: 4, Batch: 1800, Loss: 0.15013348215259611\n",
            "Epoch: 5, Batch: 100, Loss: 0.1391253413425875\n",
            "Epoch: 5, Batch: 200, Loss: 0.15621456341614248\n",
            "Epoch: 5, Batch: 300, Loss: 0.10799373776826542\n",
            "Epoch: 5, Batch: 400, Loss: 0.14085636362462536\n",
            "Epoch: 5, Batch: 500, Loss: 0.12903478412423283\n",
            "Epoch: 5, Batch: 600, Loss: 0.20778975553865167\n",
            "Epoch: 5, Batch: 700, Loss: 0.14227116091991776\n",
            "Epoch: 5, Batch: 800, Loss: 0.10763565562709118\n",
            "Epoch: 5, Batch: 900, Loss: 0.19618687485635747\n",
            "Epoch: 5, Batch: 1000, Loss: 0.2046268527400389\n",
            "Epoch: 5, Batch: 1100, Loss: 0.12893040281225696\n",
            "Epoch: 5, Batch: 1200, Loss: 0.13386589176312555\n",
            "Epoch: 5, Batch: 1300, Loss: 0.1939810686420242\n",
            "Epoch: 5, Batch: 1400, Loss: 0.13461988202208885\n",
            "Epoch: 5, Batch: 1500, Loss: 0.17822136900969782\n",
            "Epoch: 5, Batch: 1600, Loss: 0.19284990660846232\n",
            "Epoch: 5, Batch: 1700, Loss: 0.22255568482163654\n",
            "Epoch: 5, Batch: 1800, Loss: 0.13831965699078863\n",
            "Accuracy on test set: 0.9474\n",
            "We are training for batch size 32 and learning rate 0.01 and optimiser SGD\n",
            "Epoch: 1, Batch: 100, Loss: 2.305569579601288\n",
            "Epoch: 1, Batch: 200, Loss: 2.2951163125038145\n",
            "Epoch: 1, Batch: 300, Loss: 2.2866533470153807\n",
            "Epoch: 1, Batch: 400, Loss: 2.2702006554603575\n",
            "Epoch: 1, Batch: 500, Loss: 2.2354084038734436\n",
            "Epoch: 1, Batch: 600, Loss: 2.1095578014850616\n",
            "Epoch: 1, Batch: 700, Loss: 1.5444131058454513\n",
            "Epoch: 1, Batch: 800, Loss: 0.9215148243308068\n",
            "Epoch: 1, Batch: 900, Loss: 0.7028967064619064\n",
            "Epoch: 1, Batch: 1000, Loss: 0.5739200428128243\n",
            "Epoch: 1, Batch: 1100, Loss: 0.4859928348660469\n",
            "Epoch: 1, Batch: 1200, Loss: 0.428996464535594\n",
            "Epoch: 1, Batch: 1300, Loss: 0.3745853900164366\n",
            "Epoch: 1, Batch: 1400, Loss: 0.3432765181362629\n",
            "Epoch: 1, Batch: 1500, Loss: 0.35522255815565584\n",
            "Epoch: 1, Batch: 1600, Loss: 0.3126947581768036\n",
            "Epoch: 1, Batch: 1700, Loss: 0.2977171593159437\n",
            "Epoch: 1, Batch: 1800, Loss: 0.27803158458322286\n",
            "Epoch: 2, Batch: 100, Loss: 0.26629000805318354\n",
            "Epoch: 2, Batch: 200, Loss: 0.22403709592297674\n",
            "Epoch: 2, Batch: 300, Loss: 0.21605896778404712\n",
            "Epoch: 2, Batch: 400, Loss: 0.19910496775060893\n",
            "Epoch: 2, Batch: 500, Loss: 0.1910628791898489\n",
            "Epoch: 2, Batch: 600, Loss: 0.17253922071307898\n",
            "Epoch: 2, Batch: 700, Loss: 0.2359222849458456\n",
            "Epoch: 2, Batch: 800, Loss: 0.17991035355255008\n",
            "Epoch: 2, Batch: 900, Loss: 0.17642340026795864\n",
            "Epoch: 2, Batch: 1000, Loss: 0.17495037719607354\n",
            "Epoch: 2, Batch: 1100, Loss: 0.1612448251247406\n",
            "Epoch: 2, Batch: 1200, Loss: 0.13791481640189887\n",
            "Epoch: 2, Batch: 1300, Loss: 0.1725442019291222\n",
            "Epoch: 2, Batch: 1400, Loss: 0.14568381315097212\n",
            "Epoch: 2, Batch: 1500, Loss: 0.14371822537854315\n",
            "Epoch: 2, Batch: 1600, Loss: 0.135365837700665\n",
            "Epoch: 2, Batch: 1700, Loss: 0.1528974120132625\n",
            "Epoch: 2, Batch: 1800, Loss: 0.1429251006990671\n",
            "Epoch: 3, Batch: 100, Loss: 0.1190682629775256\n",
            "Epoch: 3, Batch: 200, Loss: 0.12018162955529987\n",
            "Epoch: 3, Batch: 300, Loss: 0.1223387151490897\n",
            "Epoch: 3, Batch: 400, Loss: 0.12382863965816795\n",
            "Epoch: 3, Batch: 500, Loss: 0.1428483782056719\n",
            "Epoch: 3, Batch: 600, Loss: 0.11400446156971157\n",
            "Epoch: 3, Batch: 700, Loss: 0.13043014084920287\n",
            "Epoch: 3, Batch: 800, Loss: 0.12462588837370277\n",
            "Epoch: 3, Batch: 900, Loss: 0.1083422926440835\n",
            "Epoch: 3, Batch: 1000, Loss: 0.11332211876288056\n",
            "Epoch: 3, Batch: 1100, Loss: 0.10528271318413317\n",
            "Epoch: 3, Batch: 1200, Loss: 0.08725480224005878\n",
            "Epoch: 3, Batch: 1300, Loss: 0.09861688827630133\n",
            "Epoch: 3, Batch: 1400, Loss: 0.10436047339811921\n",
            "Epoch: 3, Batch: 1500, Loss: 0.10439910703338683\n",
            "Epoch: 3, Batch: 1600, Loss: 0.10616342440247535\n",
            "Epoch: 3, Batch: 1700, Loss: 0.11396855738945305\n",
            "Epoch: 3, Batch: 1800, Loss: 0.11001551813445985\n",
            "Epoch: 4, Batch: 100, Loss: 0.09325442258268594\n",
            "Epoch: 4, Batch: 200, Loss: 0.10296904338523745\n",
            "Epoch: 4, Batch: 300, Loss: 0.09319371425081044\n",
            "Epoch: 4, Batch: 400, Loss: 0.0864697404857725\n",
            "Epoch: 4, Batch: 500, Loss: 0.09170320763718337\n",
            "Epoch: 4, Batch: 600, Loss: 0.09132887655170635\n",
            "Epoch: 4, Batch: 700, Loss: 0.09583908122498543\n",
            "Epoch: 4, Batch: 800, Loss: 0.08088603087468073\n",
            "Epoch: 4, Batch: 900, Loss: 0.09532823402434587\n",
            "Epoch: 4, Batch: 1000, Loss: 0.08516326359706\n",
            "Epoch: 4, Batch: 1100, Loss: 0.08962534648366273\n",
            "Epoch: 4, Batch: 1200, Loss: 0.07395359361777082\n",
            "Epoch: 4, Batch: 1300, Loss: 0.07990417756838725\n",
            "Epoch: 4, Batch: 1400, Loss: 0.09256090488750487\n",
            "Epoch: 4, Batch: 1500, Loss: 0.08070633667055517\n",
            "Epoch: 4, Batch: 1600, Loss: 0.0732234253687784\n",
            "Epoch: 4, Batch: 1700, Loss: 0.09530659218784422\n",
            "Epoch: 4, Batch: 1800, Loss: 0.07231426333542913\n",
            "Epoch: 5, Batch: 100, Loss: 0.07769446266815067\n",
            "Epoch: 5, Batch: 200, Loss: 0.06707286894787103\n",
            "Epoch: 5, Batch: 300, Loss: 0.07042156603187323\n",
            "Epoch: 5, Batch: 400, Loss: 0.06947841035202146\n",
            "Epoch: 5, Batch: 500, Loss: 0.062349382936954495\n",
            "Epoch: 5, Batch: 600, Loss: 0.08657265326008201\n",
            "Epoch: 5, Batch: 700, Loss: 0.07983201432274654\n",
            "Epoch: 5, Batch: 800, Loss: 0.06594482138752937\n",
            "Epoch: 5, Batch: 900, Loss: 0.06738710254896432\n",
            "Epoch: 5, Batch: 1000, Loss: 0.08094831015216186\n",
            "Epoch: 5, Batch: 1100, Loss: 0.08665957687422633\n",
            "Epoch: 5, Batch: 1200, Loss: 0.07805815018946305\n",
            "Epoch: 5, Batch: 1300, Loss: 0.06874261439777911\n",
            "Epoch: 5, Batch: 1400, Loss: 0.06113398309331387\n",
            "Epoch: 5, Batch: 1500, Loss: 0.06728833873057738\n",
            "Epoch: 5, Batch: 1600, Loss: 0.06367202014196664\n",
            "Epoch: 5, Batch: 1700, Loss: 0.07499048489378765\n",
            "Epoch: 5, Batch: 1800, Loss: 0.07370892304228618\n",
            "Accuracy on test set: 0.9795\n",
            "We are training for batch size 64 and learning rate 0.001 and optimiser Adam\n",
            "Epoch: 1, Batch: 100, Loss: 1.0607787711918355\n",
            "Epoch: 1, Batch: 200, Loss: 0.2946251752972603\n",
            "Epoch: 1, Batch: 300, Loss: 0.2170856973156333\n",
            "Epoch: 1, Batch: 400, Loss: 0.16247364781796933\n",
            "Epoch: 1, Batch: 500, Loss: 0.13637076400220394\n",
            "Epoch: 1, Batch: 600, Loss: 0.11233233125880361\n",
            "Epoch: 1, Batch: 700, Loss: 0.10836948913522065\n",
            "Epoch: 1, Batch: 800, Loss: 0.11578627495095134\n",
            "Epoch: 1, Batch: 900, Loss: 0.10688928761519492\n",
            "Epoch: 2, Batch: 100, Loss: 0.0761525818798691\n",
            "Epoch: 2, Batch: 200, Loss: 0.07634413804858924\n",
            "Epoch: 2, Batch: 300, Loss: 0.07284943116363138\n",
            "Epoch: 2, Batch: 400, Loss: 0.06901577633805572\n",
            "Epoch: 2, Batch: 500, Loss: 0.07378336830064654\n",
            "Epoch: 2, Batch: 600, Loss: 0.0675384874129668\n",
            "Epoch: 2, Batch: 700, Loss: 0.06228009135462344\n",
            "Epoch: 2, Batch: 800, Loss: 0.06093486823141575\n",
            "Epoch: 2, Batch: 900, Loss: 0.06937689969316124\n",
            "Epoch: 3, Batch: 100, Loss: 0.06103174294810742\n",
            "Epoch: 3, Batch: 200, Loss: 0.045667871998157354\n",
            "Epoch: 3, Batch: 300, Loss: 0.042956743676913905\n",
            "Epoch: 3, Batch: 400, Loss: 0.05327305426355451\n",
            "Epoch: 3, Batch: 500, Loss: 0.054107606310863046\n",
            "Epoch: 3, Batch: 600, Loss: 0.04763487829826772\n",
            "Epoch: 3, Batch: 700, Loss: 0.054558622261974964\n",
            "Epoch: 3, Batch: 800, Loss: 0.04932782445452176\n",
            "Epoch: 3, Batch: 900, Loss: 0.04723417658824473\n",
            "Epoch: 4, Batch: 100, Loss: 0.042828761038836094\n",
            "Epoch: 4, Batch: 200, Loss: 0.03364830879610963\n",
            "Epoch: 4, Batch: 300, Loss: 0.03131411498645321\n",
            "Epoch: 4, Batch: 400, Loss: 0.03614585309638642\n",
            "Epoch: 4, Batch: 500, Loss: 0.04732946765841916\n",
            "Epoch: 4, Batch: 600, Loss: 0.041953163641737776\n",
            "Epoch: 4, Batch: 700, Loss: 0.03105225431267172\n",
            "Epoch: 4, Batch: 800, Loss: 0.03973363901488483\n",
            "Epoch: 4, Batch: 900, Loss: 0.034182964974897916\n",
            "Epoch: 5, Batch: 100, Loss: 0.027045551431365313\n",
            "Epoch: 5, Batch: 200, Loss: 0.033604338017175904\n",
            "Epoch: 5, Batch: 300, Loss: 0.035633906880393626\n",
            "Epoch: 5, Batch: 400, Loss: 0.03497042767121457\n",
            "Epoch: 5, Batch: 500, Loss: 0.032541811380942816\n",
            "Epoch: 5, Batch: 600, Loss: 0.029296677439124324\n",
            "Epoch: 5, Batch: 700, Loss: 0.03346980040427297\n",
            "Epoch: 5, Batch: 800, Loss: 0.02785723247565329\n",
            "Epoch: 5, Batch: 900, Loss: 0.03035869145358447\n",
            "Accuracy on test set: 0.9888\n",
            "We are training for batch size 64 and learning rate 0.001 and optimiser RMSprop\n",
            "Epoch: 1, Batch: 100, Loss: 0.7565696735680103\n",
            "Epoch: 1, Batch: 200, Loss: 0.20020806435495614\n",
            "Epoch: 1, Batch: 300, Loss: 0.16842211119830608\n",
            "Epoch: 1, Batch: 400, Loss: 0.13057073198258876\n",
            "Epoch: 1, Batch: 500, Loss: 0.10859475762583315\n",
            "Epoch: 1, Batch: 600, Loss: 0.09172309651970863\n",
            "Epoch: 1, Batch: 700, Loss: 0.09063621792476624\n",
            "Epoch: 1, Batch: 800, Loss: 0.08239266003482043\n",
            "Epoch: 1, Batch: 900, Loss: 0.08229673509951681\n",
            "Epoch: 2, Batch: 100, Loss: 0.07380654605571181\n",
            "Epoch: 2, Batch: 200, Loss: 0.06380317963892594\n",
            "Epoch: 2, Batch: 300, Loss: 0.06206920460099354\n",
            "Epoch: 2, Batch: 400, Loss: 0.0735707685770467\n",
            "Epoch: 2, Batch: 500, Loss: 0.06346335408743471\n",
            "Epoch: 2, Batch: 600, Loss: 0.06299183829920367\n",
            "Epoch: 2, Batch: 700, Loss: 0.05312522151507437\n",
            "Epoch: 2, Batch: 800, Loss: 0.05400966585380956\n",
            "Epoch: 2, Batch: 900, Loss: 0.051521270708180966\n",
            "Epoch: 3, Batch: 100, Loss: 0.03531908419157844\n",
            "Epoch: 3, Batch: 200, Loss: 0.04676788364769891\n",
            "Epoch: 3, Batch: 300, Loss: 0.04926906434353441\n",
            "Epoch: 3, Batch: 400, Loss: 0.042104243614012375\n",
            "Epoch: 3, Batch: 500, Loss: 0.042181527735083366\n",
            "Epoch: 3, Batch: 600, Loss: 0.05083340356533881\n",
            "Epoch: 3, Batch: 700, Loss: 0.052763379653333685\n",
            "Epoch: 3, Batch: 800, Loss: 0.03799636588664725\n",
            "Epoch: 3, Batch: 900, Loss: 0.04230149020790122\n",
            "Epoch: 4, Batch: 100, Loss: 0.03027420759375673\n",
            "Epoch: 4, Batch: 200, Loss: 0.029591249843360857\n",
            "Epoch: 4, Batch: 300, Loss: 0.04318583876709454\n",
            "Epoch: 4, Batch: 400, Loss: 0.02996994553541299\n",
            "Epoch: 4, Batch: 500, Loss: 0.03631564554409124\n",
            "Epoch: 4, Batch: 600, Loss: 0.03415890275849961\n",
            "Epoch: 4, Batch: 700, Loss: 0.033120402599452065\n",
            "Epoch: 4, Batch: 800, Loss: 0.03434380727936514\n",
            "Epoch: 4, Batch: 900, Loss: 0.038761859290534634\n",
            "Epoch: 5, Batch: 100, Loss: 0.02247635985200759\n",
            "Epoch: 5, Batch: 200, Loss: 0.028402126871515065\n",
            "Epoch: 5, Batch: 300, Loss: 0.03306095899373759\n",
            "Epoch: 5, Batch: 400, Loss: 0.02455981092702132\n",
            "Epoch: 5, Batch: 500, Loss: 0.029689298814046198\n",
            "Epoch: 5, Batch: 600, Loss: 0.03035103500704281\n",
            "Epoch: 5, Batch: 700, Loss: 0.025469565149978734\n",
            "Epoch: 5, Batch: 800, Loss: 0.027198176606907508\n",
            "Epoch: 5, Batch: 900, Loss: 0.019527803800592665\n",
            "Accuracy on test set: 0.9865\n",
            "We are training for batch size 64 and learning rate 0.001 and optimiser SGD\n",
            "Epoch: 1, Batch: 100, Loss: 2.302934720516205\n",
            "Epoch: 1, Batch: 200, Loss: 2.301419944763184\n",
            "Epoch: 1, Batch: 300, Loss: 2.30068097114563\n",
            "Epoch: 1, Batch: 400, Loss: 2.30059928894043\n",
            "Epoch: 1, Batch: 500, Loss: 2.2995228481292727\n",
            "Epoch: 1, Batch: 600, Loss: 2.2989918541908265\n",
            "Epoch: 1, Batch: 700, Loss: 2.299666223526001\n",
            "Epoch: 1, Batch: 800, Loss: 2.2976307487487793\n",
            "Epoch: 1, Batch: 900, Loss: 2.2971581339836122\n",
            "Epoch: 2, Batch: 100, Loss: 2.2960338306427004\n",
            "Epoch: 2, Batch: 200, Loss: 2.2966850352287294\n",
            "Epoch: 2, Batch: 300, Loss: 2.295181646347046\n",
            "Epoch: 2, Batch: 400, Loss: 2.293165719509125\n",
            "Epoch: 2, Batch: 500, Loss: 2.2932195043563843\n",
            "Epoch: 2, Batch: 600, Loss: 2.2928471541404725\n",
            "Epoch: 2, Batch: 700, Loss: 2.292361252307892\n",
            "Epoch: 2, Batch: 800, Loss: 2.2912963795661927\n",
            "Epoch: 2, Batch: 900, Loss: 2.2902314949035643\n",
            "Epoch: 3, Batch: 100, Loss: 2.2885005640983582\n",
            "Epoch: 3, Batch: 200, Loss: 2.288635993003845\n",
            "Epoch: 3, Batch: 300, Loss: 2.2877425742149353\n",
            "Epoch: 3, Batch: 400, Loss: 2.286664960384369\n",
            "Epoch: 3, Batch: 500, Loss: 2.2851195406913756\n",
            "Epoch: 3, Batch: 600, Loss: 2.2844220900535586\n",
            "Epoch: 3, Batch: 700, Loss: 2.283488531112671\n",
            "Epoch: 3, Batch: 800, Loss: 2.2836203837394713\n",
            "Epoch: 3, Batch: 900, Loss: 2.281290090084076\n",
            "Epoch: 4, Batch: 100, Loss: 2.2786419415473937\n",
            "Epoch: 4, Batch: 200, Loss: 2.278030574321747\n",
            "Epoch: 4, Batch: 300, Loss: 2.2761455941200257\n",
            "Epoch: 4, Batch: 400, Loss: 2.2750510072708128\n",
            "Epoch: 4, Batch: 500, Loss: 2.274078938961029\n",
            "Epoch: 4, Batch: 600, Loss: 2.271595668792725\n",
            "Epoch: 4, Batch: 700, Loss: 2.2692165994644165\n",
            "Epoch: 4, Batch: 800, Loss: 2.266108169555664\n",
            "Epoch: 4, Batch: 900, Loss: 2.265503923892975\n",
            "Epoch: 5, Batch: 100, Loss: 2.260778923034668\n",
            "Epoch: 5, Batch: 200, Loss: 2.258457586765289\n",
            "Epoch: 5, Batch: 300, Loss: 2.2539698934555052\n",
            "Epoch: 5, Batch: 400, Loss: 2.252799355983734\n",
            "Epoch: 5, Batch: 500, Loss: 2.248785445690155\n",
            "Epoch: 5, Batch: 600, Loss: 2.244659562110901\n",
            "Epoch: 5, Batch: 700, Loss: 2.240682051181793\n",
            "Epoch: 5, Batch: 800, Loss: 2.2349522733688354\n",
            "Epoch: 5, Batch: 900, Loss: 2.2284069085121154\n",
            "Accuracy on test set: 0.3258\n",
            "We are training for batch size 64 and learning rate 0.0001 and optimiser Adam\n",
            "Epoch: 1, Batch: 100, Loss: 2.25604150056839\n",
            "Epoch: 1, Batch: 200, Loss: 1.9052565610408783\n",
            "Epoch: 1, Batch: 300, Loss: 1.1541052025556564\n",
            "Epoch: 1, Batch: 400, Loss: 0.7004255703091622\n",
            "Epoch: 1, Batch: 500, Loss: 0.536282519698143\n",
            "Epoch: 1, Batch: 600, Loss: 0.42567119374871254\n",
            "Epoch: 1, Batch: 700, Loss: 0.3786368726193905\n",
            "Epoch: 1, Batch: 800, Loss: 0.35171670854091647\n",
            "Epoch: 1, Batch: 900, Loss: 0.3196390438079834\n",
            "Epoch: 2, Batch: 100, Loss: 0.28412310473620894\n",
            "Epoch: 2, Batch: 200, Loss: 0.2860225217044354\n",
            "Epoch: 2, Batch: 300, Loss: 0.2684130056202412\n",
            "Epoch: 2, Batch: 400, Loss: 0.2451665187627077\n",
            "Epoch: 2, Batch: 500, Loss: 0.23423742718994617\n",
            "Epoch: 2, Batch: 600, Loss: 0.24142624974250793\n",
            "Epoch: 2, Batch: 700, Loss: 0.2039973483234644\n",
            "Epoch: 2, Batch: 800, Loss: 0.19045645669102668\n",
            "Epoch: 2, Batch: 900, Loss: 0.20050142601132392\n",
            "Epoch: 3, Batch: 100, Loss: 0.1913232148811221\n",
            "Epoch: 3, Batch: 200, Loss: 0.18990253243595362\n",
            "Epoch: 3, Batch: 300, Loss: 0.17879358179867266\n",
            "Epoch: 3, Batch: 400, Loss: 0.17020943775773048\n",
            "Epoch: 3, Batch: 500, Loss: 0.16095868557691573\n",
            "Epoch: 3, Batch: 600, Loss: 0.14499816823750733\n",
            "Epoch: 3, Batch: 700, Loss: 0.15591240491718053\n",
            "Epoch: 3, Batch: 800, Loss: 0.1562510735914111\n",
            "Epoch: 3, Batch: 900, Loss: 0.14113217271864414\n",
            "Epoch: 4, Batch: 100, Loss: 0.14584234416484831\n",
            "Epoch: 4, Batch: 200, Loss: 0.14108323983848095\n",
            "Epoch: 4, Batch: 300, Loss: 0.1224271527118981\n",
            "Epoch: 4, Batch: 400, Loss: 0.13407830767333506\n",
            "Epoch: 4, Batch: 500, Loss: 0.12894581459462642\n",
            "Epoch: 4, Batch: 600, Loss: 0.13234888514503837\n",
            "Epoch: 4, Batch: 700, Loss: 0.12207756774500013\n",
            "Epoch: 4, Batch: 800, Loss: 0.12462022699415684\n",
            "Epoch: 4, Batch: 900, Loss: 0.12681246599182486\n",
            "Epoch: 5, Batch: 100, Loss: 0.11661008374765515\n",
            "Epoch: 5, Batch: 200, Loss: 0.11117050597444177\n",
            "Epoch: 5, Batch: 300, Loss: 0.10690486774779856\n",
            "Epoch: 5, Batch: 400, Loss: 0.11161983840167522\n",
            "Epoch: 5, Batch: 500, Loss: 0.10961668443866074\n",
            "Epoch: 5, Batch: 600, Loss: 0.10377034928649664\n",
            "Epoch: 5, Batch: 700, Loss: 0.11012850992381573\n",
            "Epoch: 5, Batch: 800, Loss: 0.1028074011206627\n",
            "Epoch: 5, Batch: 900, Loss: 0.10869096549227834\n",
            "Accuracy on test set: 0.9753\n",
            "We are training for batch size 64 and learning rate 0.0001 and optimiser RMSprop\n",
            "Epoch: 1, Batch: 100, Loss: 1.9892223680019379\n",
            "Epoch: 1, Batch: 200, Loss: 1.1532303839921951\n",
            "Epoch: 1, Batch: 300, Loss: 0.720613913834095\n",
            "Epoch: 1, Batch: 400, Loss: 0.5651022332906723\n",
            "Epoch: 1, Batch: 500, Loss: 0.4691813662648201\n",
            "Epoch: 1, Batch: 600, Loss: 0.42507242247462274\n",
            "Epoch: 1, Batch: 700, Loss: 0.38580435901880267\n",
            "Epoch: 1, Batch: 800, Loss: 0.34309025064110754\n",
            "Epoch: 1, Batch: 900, Loss: 0.3219515311717987\n",
            "Epoch: 2, Batch: 100, Loss: 0.30216623201966286\n",
            "Epoch: 2, Batch: 200, Loss: 0.2917128571867943\n",
            "Epoch: 2, Batch: 300, Loss: 0.2484629987180233\n",
            "Epoch: 2, Batch: 400, Loss: 0.2605059477686882\n",
            "Epoch: 2, Batch: 500, Loss: 0.23555386379361154\n",
            "Epoch: 2, Batch: 600, Loss: 0.2296589468792081\n",
            "Epoch: 2, Batch: 700, Loss: 0.20792128562927245\n",
            "Epoch: 2, Batch: 800, Loss: 0.2012690917402506\n",
            "Epoch: 2, Batch: 900, Loss: 0.20503993891179562\n",
            "Epoch: 3, Batch: 100, Loss: 0.17911531250923873\n",
            "Epoch: 3, Batch: 200, Loss: 0.17770501863211394\n",
            "Epoch: 3, Batch: 300, Loss: 0.17300309523940086\n",
            "Epoch: 3, Batch: 400, Loss: 0.16399960666894914\n",
            "Epoch: 3, Batch: 500, Loss: 0.15332793176174164\n",
            "Epoch: 3, Batch: 600, Loss: 0.16579313199967147\n",
            "Epoch: 3, Batch: 700, Loss: 0.15099988780915738\n",
            "Epoch: 3, Batch: 800, Loss: 0.1499401954561472\n",
            "Epoch: 3, Batch: 900, Loss: 0.13672284588217734\n",
            "Epoch: 4, Batch: 100, Loss: 0.11863905057311058\n",
            "Epoch: 4, Batch: 200, Loss: 0.13911810897290708\n",
            "Epoch: 4, Batch: 300, Loss: 0.1218453005887568\n",
            "Epoch: 4, Batch: 400, Loss: 0.12730010010302067\n",
            "Epoch: 4, Batch: 500, Loss: 0.1328774806857109\n",
            "Epoch: 4, Batch: 600, Loss: 0.11616023015230895\n",
            "Epoch: 4, Batch: 700, Loss: 0.11291678259149193\n",
            "Epoch: 4, Batch: 800, Loss: 0.12321259522810578\n",
            "Epoch: 4, Batch: 900, Loss: 0.10685468029230832\n",
            "Epoch: 5, Batch: 100, Loss: 0.10284764796495438\n",
            "Epoch: 5, Batch: 200, Loss: 0.10467455429956317\n",
            "Epoch: 5, Batch: 300, Loss: 0.09404665322974325\n",
            "Epoch: 5, Batch: 400, Loss: 0.09918263133615256\n",
            "Epoch: 5, Batch: 500, Loss: 0.10611048173159361\n",
            "Epoch: 5, Batch: 600, Loss: 0.10117150217294693\n",
            "Epoch: 5, Batch: 700, Loss: 0.1050576156936586\n",
            "Epoch: 5, Batch: 800, Loss: 0.09033859848976135\n",
            "Epoch: 5, Batch: 900, Loss: 0.09901110218837857\n",
            "Accuracy on test set: 0.9688\n",
            "We are training for batch size 64 and learning rate 0.0001 and optimiser SGD\n",
            "Epoch: 1, Batch: 100, Loss: 2.3059449100494387\n",
            "Epoch: 1, Batch: 200, Loss: 2.3065892958641054\n",
            "Epoch: 1, Batch: 300, Loss: 2.3088227915763855\n",
            "Epoch: 1, Batch: 400, Loss: 2.308180434703827\n",
            "Epoch: 1, Batch: 500, Loss: 2.3075746870040894\n",
            "Epoch: 1, Batch: 600, Loss: 2.30726553440094\n",
            "Epoch: 1, Batch: 700, Loss: 2.3077909994125365\n",
            "Epoch: 1, Batch: 800, Loss: 2.307967402935028\n",
            "Epoch: 1, Batch: 900, Loss: 2.308943943977356\n",
            "Epoch: 2, Batch: 100, Loss: 2.30775883436203\n",
            "Epoch: 2, Batch: 200, Loss: 2.305377404689789\n",
            "Epoch: 2, Batch: 300, Loss: 2.3076372861862184\n",
            "Epoch: 2, Batch: 400, Loss: 2.308409330844879\n",
            "Epoch: 2, Batch: 500, Loss: 2.3071968936920166\n",
            "Epoch: 2, Batch: 600, Loss: 2.3066253089904785\n",
            "Epoch: 2, Batch: 700, Loss: 2.3066698694229126\n",
            "Epoch: 2, Batch: 800, Loss: 2.306102409362793\n",
            "Epoch: 2, Batch: 900, Loss: 2.3071054911613462\n",
            "Epoch: 3, Batch: 100, Loss: 2.3066617703437804\n",
            "Epoch: 3, Batch: 200, Loss: 2.3060691452026365\n",
            "Epoch: 3, Batch: 300, Loss: 2.3070462369918823\n",
            "Epoch: 3, Batch: 400, Loss: 2.307710509300232\n",
            "Epoch: 3, Batch: 500, Loss: 2.3068627166748046\n",
            "Epoch: 3, Batch: 600, Loss: 2.3047708964347837\n",
            "Epoch: 3, Batch: 700, Loss: 2.305039057731628\n",
            "Epoch: 3, Batch: 800, Loss: 2.30691814661026\n",
            "Epoch: 3, Batch: 900, Loss: 2.3058346247673036\n",
            "Epoch: 4, Batch: 100, Loss: 2.3040695428848266\n",
            "Epoch: 4, Batch: 200, Loss: 2.3069753241539\n",
            "Epoch: 4, Batch: 300, Loss: 2.305887520313263\n",
            "Epoch: 4, Batch: 400, Loss: 2.3055636358261107\n",
            "Epoch: 4, Batch: 500, Loss: 2.306110854148865\n",
            "Epoch: 4, Batch: 600, Loss: 2.3045138239860536\n",
            "Epoch: 4, Batch: 700, Loss: 2.3055373501777647\n",
            "Epoch: 4, Batch: 800, Loss: 2.3062079215049742\n",
            "Epoch: 4, Batch: 900, Loss: 2.305117094516754\n",
            "Epoch: 5, Batch: 100, Loss: 2.3059839606285095\n",
            "Epoch: 5, Batch: 200, Loss: 2.3037071108818052\n",
            "Epoch: 5, Batch: 300, Loss: 2.303794474601746\n",
            "Epoch: 5, Batch: 400, Loss: 2.3038934516906737\n",
            "Epoch: 5, Batch: 500, Loss: 2.3063636589050294\n",
            "Epoch: 5, Batch: 600, Loss: 2.305658640861511\n",
            "Epoch: 5, Batch: 700, Loss: 2.304607963562012\n",
            "Epoch: 5, Batch: 800, Loss: 2.3048567175865173\n",
            "Epoch: 5, Batch: 900, Loss: 2.304273762702942\n",
            "Accuracy on test set: 0.0842\n",
            "We are training for batch size 64 and learning rate 0.01 and optimiser Adam\n",
            "Epoch: 1, Batch: 100, Loss: 0.671871559843421\n",
            "Epoch: 1, Batch: 200, Loss: 0.21260717298835516\n",
            "Epoch: 1, Batch: 300, Loss: 0.1511719812452793\n",
            "Epoch: 1, Batch: 400, Loss: 0.16305992147885262\n",
            "Epoch: 1, Batch: 500, Loss: 0.15471113280858845\n",
            "Epoch: 1, Batch: 600, Loss: 0.12970905927941204\n",
            "Epoch: 1, Batch: 700, Loss: 0.13090476823970676\n",
            "Epoch: 1, Batch: 800, Loss: 0.12232950216159225\n",
            "Epoch: 1, Batch: 900, Loss: 0.10505362624768168\n",
            "Epoch: 2, Batch: 100, Loss: 0.10414040627889336\n",
            "Epoch: 2, Batch: 200, Loss: 0.1119335496192798\n",
            "Epoch: 2, Batch: 300, Loss: 0.09541759443935006\n",
            "Epoch: 2, Batch: 400, Loss: 0.10103176271310076\n",
            "Epoch: 2, Batch: 500, Loss: 0.10402817756053992\n",
            "Epoch: 2, Batch: 600, Loss: 0.1038722640555352\n",
            "Epoch: 2, Batch: 700, Loss: 0.11440481084864587\n",
            "Epoch: 2, Batch: 800, Loss: 0.11985872640972957\n",
            "Epoch: 2, Batch: 900, Loss: 0.11345103706466034\n",
            "Epoch: 3, Batch: 100, Loss: 0.09373568875715137\n",
            "Epoch: 3, Batch: 200, Loss: 0.09737649504910223\n",
            "Epoch: 3, Batch: 300, Loss: 0.09910235763993114\n",
            "Epoch: 3, Batch: 400, Loss: 0.08659623047569767\n",
            "Epoch: 3, Batch: 500, Loss: 0.09190621976042167\n",
            "Epoch: 3, Batch: 600, Loss: 0.09939848869340494\n",
            "Epoch: 3, Batch: 700, Loss: 0.0981177701218985\n",
            "Epoch: 3, Batch: 800, Loss: 0.09075949571095407\n",
            "Epoch: 3, Batch: 900, Loss: 0.13165000887820497\n",
            "Epoch: 4, Batch: 100, Loss: 0.11651128405705094\n",
            "Epoch: 4, Batch: 200, Loss: 0.09054856369039044\n",
            "Epoch: 4, Batch: 300, Loss: 0.08901067218510433\n",
            "Epoch: 4, Batch: 400, Loss: 0.09457362214336172\n",
            "Epoch: 4, Batch: 500, Loss: 0.08664386601187289\n",
            "Epoch: 4, Batch: 600, Loss: 0.10051032721297816\n",
            "Epoch: 4, Batch: 700, Loss: 0.08983008993091061\n",
            "Epoch: 4, Batch: 800, Loss: 0.10339151228778064\n",
            "Epoch: 4, Batch: 900, Loss: 0.0672275354154408\n",
            "Epoch: 5, Batch: 100, Loss: 0.08964396006107563\n",
            "Epoch: 5, Batch: 200, Loss: 0.07541615814145189\n",
            "Epoch: 5, Batch: 300, Loss: 0.0998071716632694\n",
            "Epoch: 5, Batch: 400, Loss: 0.08874888371676207\n",
            "Epoch: 5, Batch: 500, Loss: 0.08911804082104936\n",
            "Epoch: 5, Batch: 600, Loss: 0.08911245246650651\n",
            "Epoch: 5, Batch: 700, Loss: 0.09445639956509694\n",
            "Epoch: 5, Batch: 800, Loss: 0.09771198621019721\n",
            "Epoch: 5, Batch: 900, Loss: 0.07315276682085824\n",
            "Accuracy on test set: 0.9814\n",
            "We are training for batch size 64 and learning rate 0.01 and optimiser RMSprop\n",
            "Epoch: 1, Batch: 100, Loss: 2.4268445393443105\n",
            "Epoch: 1, Batch: 200, Loss: 0.34130005799233915\n",
            "Epoch: 1, Batch: 300, Loss: 0.23614740673452617\n",
            "Epoch: 1, Batch: 400, Loss: 0.22691108990460634\n",
            "Epoch: 1, Batch: 500, Loss: 0.18072626996785401\n",
            "Epoch: 1, Batch: 600, Loss: 0.16768664564937352\n",
            "Epoch: 1, Batch: 700, Loss: 0.1571652332134545\n",
            "Epoch: 1, Batch: 800, Loss: 0.14335567935369908\n",
            "Epoch: 1, Batch: 900, Loss: 0.1498711034283042\n",
            "Epoch: 2, Batch: 100, Loss: 0.12426256920676679\n",
            "Epoch: 2, Batch: 200, Loss: 0.1500242753047496\n",
            "Epoch: 2, Batch: 300, Loss: 0.11279345139861106\n",
            "Epoch: 2, Batch: 400, Loss: 0.12463366736890748\n",
            "Epoch: 2, Batch: 500, Loss: 0.12520258953794838\n",
            "Epoch: 2, Batch: 600, Loss: 0.1270615210523829\n",
            "Epoch: 2, Batch: 700, Loss: 0.11750927545130253\n",
            "Epoch: 2, Batch: 800, Loss: 0.13098585995379836\n",
            "Epoch: 2, Batch: 900, Loss: 0.13733311150223015\n",
            "Epoch: 3, Batch: 100, Loss: 0.09174233534839005\n",
            "Epoch: 3, Batch: 200, Loss: 0.12120387376751751\n",
            "Epoch: 3, Batch: 300, Loss: 0.10340784655883908\n",
            "Epoch: 3, Batch: 400, Loss: 0.11386747609823943\n",
            "Epoch: 3, Batch: 500, Loss: 0.1070352567313239\n",
            "Epoch: 3, Batch: 600, Loss: 0.11443805897259153\n",
            "Epoch: 3, Batch: 700, Loss: 0.1284413887700066\n",
            "Epoch: 3, Batch: 800, Loss: 0.10501742396503687\n",
            "Epoch: 3, Batch: 900, Loss: 0.14711354562081397\n",
            "Epoch: 4, Batch: 100, Loss: 0.08999085487099365\n",
            "Epoch: 4, Batch: 200, Loss: 0.09470671488321386\n",
            "Epoch: 4, Batch: 300, Loss: 0.11706671786494553\n",
            "Epoch: 4, Batch: 400, Loss: 0.09644336669589393\n",
            "Epoch: 4, Batch: 500, Loss: 0.1012053695745999\n",
            "Epoch: 4, Batch: 600, Loss: 0.12931366427015745\n",
            "Epoch: 4, Batch: 700, Loss: 0.09961452889023349\n",
            "Epoch: 4, Batch: 800, Loss: 0.12813771750312297\n",
            "Epoch: 4, Batch: 900, Loss: 0.09504397704498842\n",
            "Epoch: 5, Batch: 100, Loss: 0.08190457332646474\n",
            "Epoch: 5, Batch: 200, Loss: 0.10127680280711501\n",
            "Epoch: 5, Batch: 300, Loss: 0.09544262726412853\n",
            "Epoch: 5, Batch: 400, Loss: 0.09339322673156858\n",
            "Epoch: 5, Batch: 500, Loss: 0.1329506351519376\n",
            "Epoch: 5, Batch: 600, Loss: 0.09286098489537835\n",
            "Epoch: 5, Batch: 700, Loss: 0.10131955480901525\n",
            "Epoch: 5, Batch: 800, Loss: 0.09383058828767389\n",
            "Epoch: 5, Batch: 900, Loss: 0.11484938842128031\n",
            "Accuracy on test set: 0.9747\n",
            "We are training for batch size 64 and learning rate 0.01 and optimiser SGD\n",
            "Epoch: 1, Batch: 100, Loss: 2.3020538592338564\n",
            "Epoch: 1, Batch: 200, Loss: 2.2960453414916993\n",
            "Epoch: 1, Batch: 300, Loss: 2.288181164264679\n",
            "Epoch: 1, Batch: 400, Loss: 2.280634460449219\n",
            "Epoch: 1, Batch: 500, Loss: 2.263815402984619\n",
            "Epoch: 1, Batch: 600, Loss: 2.2338850688934326\n",
            "Epoch: 1, Batch: 700, Loss: 2.1527087831497194\n",
            "Epoch: 1, Batch: 800, Loss: 1.8844970989227294\n",
            "Epoch: 1, Batch: 900, Loss: 1.311576782464981\n",
            "Epoch: 2, Batch: 100, Loss: 0.7283147379755974\n",
            "Epoch: 2, Batch: 200, Loss: 0.5398205241560936\n",
            "Epoch: 2, Batch: 300, Loss: 0.4372615531086922\n",
            "Epoch: 2, Batch: 400, Loss: 0.35450363598763945\n",
            "Epoch: 2, Batch: 500, Loss: 0.33830355390906336\n",
            "Epoch: 2, Batch: 600, Loss: 0.2837888836860657\n",
            "Epoch: 2, Batch: 700, Loss: 0.2653639555722475\n",
            "Epoch: 2, Batch: 800, Loss: 0.2479632928967476\n",
            "Epoch: 2, Batch: 900, Loss: 0.23383990228176116\n",
            "Epoch: 3, Batch: 100, Loss: 0.20368458673357964\n",
            "Epoch: 3, Batch: 200, Loss: 0.19496580883860587\n",
            "Epoch: 3, Batch: 300, Loss: 0.19100179567933082\n",
            "Epoch: 3, Batch: 400, Loss: 0.18686590000987052\n",
            "Epoch: 3, Batch: 500, Loss: 0.16647074408829213\n",
            "Epoch: 3, Batch: 600, Loss: 0.15987931307405234\n",
            "Epoch: 3, Batch: 700, Loss: 0.15607146289199592\n",
            "Epoch: 3, Batch: 800, Loss: 0.14771012352779508\n",
            "Epoch: 3, Batch: 900, Loss: 0.15444528069347144\n",
            "Epoch: 4, Batch: 100, Loss: 0.12326379179954529\n",
            "Epoch: 4, Batch: 200, Loss: 0.13470872167497874\n",
            "Epoch: 4, Batch: 300, Loss: 0.1320458046346903\n",
            "Epoch: 4, Batch: 400, Loss: 0.13782015973702072\n",
            "Epoch: 4, Batch: 500, Loss: 0.1109629370830953\n",
            "Epoch: 4, Batch: 600, Loss: 0.1246682396158576\n",
            "Epoch: 4, Batch: 700, Loss: 0.12431537702679635\n",
            "Epoch: 4, Batch: 800, Loss: 0.12885533904656768\n",
            "Epoch: 4, Batch: 900, Loss: 0.09620357980951667\n",
            "Epoch: 5, Batch: 100, Loss: 0.09071670025587082\n",
            "Epoch: 5, Batch: 200, Loss: 0.10748892081901432\n",
            "Epoch: 5, Batch: 300, Loss: 0.10168746260926127\n",
            "Epoch: 5, Batch: 400, Loss: 0.09804817026481033\n",
            "Epoch: 5, Batch: 500, Loss: 0.10849753126502037\n",
            "Epoch: 5, Batch: 600, Loss: 0.09374804830178618\n",
            "Epoch: 5, Batch: 700, Loss: 0.09346634312532842\n",
            "Epoch: 5, Batch: 800, Loss: 0.09947214913554489\n",
            "Epoch: 5, Batch: 900, Loss: 0.09471983781084418\n",
            "Accuracy on test set: 0.9708\n",
            "We are training for batch size 128 and learning rate 0.001 and optimiser Adam\n",
            "Epoch: 1, Batch: 100, Loss: 1.0663983535766601\n",
            "Epoch: 1, Batch: 200, Loss: 0.29042813278734686\n",
            "Epoch: 1, Batch: 300, Loss: 0.20347095988690853\n",
            "Epoch: 1, Batch: 400, Loss: 0.1451098619028926\n",
            "Epoch: 2, Batch: 100, Loss: 0.10549384938552976\n",
            "Epoch: 2, Batch: 200, Loss: 0.08650492941960693\n",
            "Epoch: 2, Batch: 300, Loss: 0.08603862460702658\n",
            "Epoch: 2, Batch: 400, Loss: 0.07869479395449161\n",
            "Epoch: 3, Batch: 100, Loss: 0.06335955590941011\n",
            "Epoch: 3, Batch: 200, Loss: 0.06838768909685314\n",
            "Epoch: 3, Batch: 300, Loss: 0.05937957452610135\n",
            "Epoch: 3, Batch: 400, Loss: 0.055098807304166254\n",
            "Epoch: 4, Batch: 100, Loss: 0.0452862439956516\n",
            "Epoch: 4, Batch: 200, Loss: 0.04707644185051322\n",
            "Epoch: 4, Batch: 300, Loss: 0.04810485227033496\n",
            "Epoch: 4, Batch: 400, Loss: 0.04859685115981847\n",
            "Epoch: 5, Batch: 100, Loss: 0.03931910280138254\n",
            "Epoch: 5, Batch: 200, Loss: 0.039525490782689306\n",
            "Epoch: 5, Batch: 300, Loss: 0.04175368598662317\n",
            "Epoch: 5, Batch: 400, Loss: 0.042261460474692286\n",
            "Accuracy on test set: 0.9892\n",
            "We are training for batch size 128 and learning rate 0.001 and optimiser RMSprop\n",
            "Epoch: 1, Batch: 100, Loss: 0.6705049309134483\n",
            "Epoch: 1, Batch: 200, Loss: 0.16083990789949895\n",
            "Epoch: 1, Batch: 300, Loss: 0.12605021975934505\n",
            "Epoch: 1, Batch: 400, Loss: 0.10816579172387719\n",
            "Epoch: 2, Batch: 100, Loss: 0.08664853975176812\n",
            "Epoch: 2, Batch: 200, Loss: 0.07647902190685273\n",
            "Epoch: 2, Batch: 300, Loss: 0.06141283598728478\n",
            "Epoch: 2, Batch: 400, Loss: 0.06075294869020581\n",
            "Epoch: 3, Batch: 100, Loss: 0.05331061973236501\n",
            "Epoch: 3, Batch: 200, Loss: 0.05379640527069569\n",
            "Epoch: 3, Batch: 300, Loss: 0.04993016670458019\n",
            "Epoch: 3, Batch: 400, Loss: 0.0498246041033417\n",
            "Epoch: 4, Batch: 100, Loss: 0.034143455303274096\n",
            "Epoch: 4, Batch: 200, Loss: 0.040153860724531115\n",
            "Epoch: 4, Batch: 300, Loss: 0.03803847161936574\n",
            "Epoch: 4, Batch: 400, Loss: 0.038442927428986876\n",
            "Epoch: 5, Batch: 100, Loss: 0.030667440618271938\n",
            "Epoch: 5, Batch: 200, Loss: 0.031792512591928244\n",
            "Epoch: 5, Batch: 300, Loss: 0.03225481532746926\n",
            "Epoch: 5, Batch: 400, Loss: 0.02996863093576394\n",
            "Accuracy on test set: 0.9904\n",
            "We are training for batch size 128 and learning rate 0.001 and optimiser SGD\n",
            "Epoch: 1, Batch: 100, Loss: 2.301078345775604\n",
            "Epoch: 1, Batch: 200, Loss: 2.3017914128303527\n",
            "Epoch: 1, Batch: 300, Loss: 2.2993315982818605\n",
            "Epoch: 1, Batch: 400, Loss: 2.2982792544364927\n",
            "Epoch: 2, Batch: 100, Loss: 2.2959293603897093\n",
            "Epoch: 2, Batch: 200, Loss: 2.2946527457237242\n",
            "Epoch: 2, Batch: 300, Loss: 2.294030945301056\n",
            "Epoch: 2, Batch: 400, Loss: 2.292489411830902\n",
            "Epoch: 3, Batch: 100, Loss: 2.2894173955917356\n",
            "Epoch: 3, Batch: 200, Loss: 2.2887339854240416\n",
            "Epoch: 3, Batch: 300, Loss: 2.287426862716675\n",
            "Epoch: 3, Batch: 400, Loss: 2.2856449127197265\n",
            "Epoch: 4, Batch: 100, Loss: 2.282627100944519\n",
            "Epoch: 4, Batch: 200, Loss: 2.280616593360901\n",
            "Epoch: 4, Batch: 300, Loss: 2.278755090236664\n",
            "Epoch: 4, Batch: 400, Loss: 2.277945489883423\n",
            "Epoch: 5, Batch: 100, Loss: 2.272992467880249\n",
            "Epoch: 5, Batch: 200, Loss: 2.2711780309677123\n",
            "Epoch: 5, Batch: 300, Loss: 2.2682525396347044\n",
            "Epoch: 5, Batch: 400, Loss: 2.266088168621063\n",
            "Accuracy on test set: 0.3739\n",
            "We are training for batch size 128 and learning rate 0.0001 and optimiser Adam\n",
            "Epoch: 1, Batch: 100, Loss: 2.253280553817749\n",
            "Epoch: 1, Batch: 200, Loss: 1.730789703130722\n",
            "Epoch: 1, Batch: 300, Loss: 0.8206637102365494\n",
            "Epoch: 1, Batch: 400, Loss: 0.5017070204019547\n",
            "Epoch: 2, Batch: 100, Loss: 0.34987771570682524\n",
            "Epoch: 2, Batch: 200, Loss: 0.31181605070829393\n",
            "Epoch: 2, Batch: 300, Loss: 0.27604740008711814\n",
            "Epoch: 2, Batch: 400, Loss: 0.2573768353462219\n",
            "Epoch: 3, Batch: 100, Loss: 0.2274668364971876\n",
            "Epoch: 3, Batch: 200, Loss: 0.214975226521492\n",
            "Epoch: 3, Batch: 300, Loss: 0.20107609733939172\n",
            "Epoch: 3, Batch: 400, Loss: 0.19815685100853442\n",
            "Epoch: 4, Batch: 100, Loss: 0.18183349661529064\n",
            "Epoch: 4, Batch: 200, Loss: 0.16904381610453129\n",
            "Epoch: 4, Batch: 300, Loss: 0.16444320395588874\n",
            "Epoch: 4, Batch: 400, Loss: 0.16761342249810696\n",
            "Epoch: 5, Batch: 100, Loss: 0.14205057427287102\n",
            "Epoch: 5, Batch: 200, Loss: 0.1464965358376503\n",
            "Epoch: 5, Batch: 300, Loss: 0.14619559794664383\n",
            "Epoch: 5, Batch: 400, Loss: 0.1379831076785922\n",
            "Accuracy on test set: 0.9621\n",
            "We are training for batch size 128 and learning rate 0.0001 and optimiser RMSprop\n",
            "Epoch: 1, Batch: 100, Loss: 1.88404287815094\n",
            "Epoch: 1, Batch: 200, Loss: 0.9957319498062134\n",
            "Epoch: 1, Batch: 300, Loss: 0.6303999781608581\n",
            "Epoch: 1, Batch: 400, Loss: 0.5035141715407372\n",
            "Epoch: 2, Batch: 100, Loss: 0.40544475346803666\n",
            "Epoch: 2, Batch: 200, Loss: 0.3511142840981483\n",
            "Epoch: 2, Batch: 300, Loss: 0.3391350108385086\n",
            "Epoch: 2, Batch: 400, Loss: 0.3220101469755173\n",
            "Epoch: 3, Batch: 100, Loss: 0.27567858546972274\n",
            "Epoch: 3, Batch: 200, Loss: 0.26199045903980733\n",
            "Epoch: 3, Batch: 300, Loss: 0.26235892497003077\n",
            "Epoch: 3, Batch: 400, Loss: 0.24790697112679483\n",
            "Epoch: 4, Batch: 100, Loss: 0.20774682983756065\n",
            "Epoch: 4, Batch: 200, Loss: 0.2090781857073307\n",
            "Epoch: 4, Batch: 300, Loss: 0.19916104935109616\n",
            "Epoch: 4, Batch: 400, Loss: 0.18859081327915192\n",
            "Epoch: 5, Batch: 100, Loss: 0.17241225846111774\n",
            "Epoch: 5, Batch: 200, Loss: 0.1696660329028964\n",
            "Epoch: 5, Batch: 300, Loss: 0.15082949467003345\n",
            "Epoch: 5, Batch: 400, Loss: 0.14764914758503436\n",
            "Accuracy on test set: 0.958\n",
            "We are training for batch size 128 and learning rate 0.0001 and optimiser SGD\n",
            "Epoch: 1, Batch: 100, Loss: 2.3061708855628966\n",
            "Epoch: 1, Batch: 200, Loss: 2.307114646434784\n",
            "Epoch: 1, Batch: 300, Loss: 2.307618465423584\n",
            "Epoch: 1, Batch: 400, Loss: 2.3060327649116514\n",
            "Epoch: 2, Batch: 100, Loss: 2.306766486167908\n",
            "Epoch: 2, Batch: 200, Loss: 2.305860872268677\n",
            "Epoch: 2, Batch: 300, Loss: 2.3070173144340513\n",
            "Epoch: 2, Batch: 400, Loss: 2.305376875400543\n",
            "Epoch: 3, Batch: 100, Loss: 2.306691093444824\n",
            "Epoch: 3, Batch: 200, Loss: 2.305996444225311\n",
            "Epoch: 3, Batch: 300, Loss: 2.306201057434082\n",
            "Epoch: 3, Batch: 400, Loss: 2.304804720878601\n",
            "Epoch: 4, Batch: 100, Loss: 2.3064603352546693\n",
            "Epoch: 4, Batch: 200, Loss: 2.3060260677337645\n",
            "Epoch: 4, Batch: 300, Loss: 2.3058473825454713\n",
            "Epoch: 4, Batch: 400, Loss: 2.305210270881653\n",
            "Epoch: 5, Batch: 100, Loss: 2.305550928115845\n",
            "Epoch: 5, Batch: 200, Loss: 2.303967225551605\n",
            "Epoch: 5, Batch: 300, Loss: 2.3057383465766907\n",
            "Epoch: 5, Batch: 400, Loss: 2.3050849509239195\n",
            "Accuracy on test set: 0.0974\n",
            "We are training for batch size 128 and learning rate 0.01 and optimiser Adam\n",
            "Epoch: 1, Batch: 100, Loss: 0.43704291209578516\n",
            "Epoch: 1, Batch: 200, Loss: 0.11810317611321806\n",
            "Epoch: 1, Batch: 300, Loss: 0.09398667355300859\n",
            "Epoch: 1, Batch: 400, Loss: 0.09347312868572771\n",
            "Epoch: 2, Batch: 100, Loss: 0.0800902028568089\n",
            "Epoch: 2, Batch: 200, Loss: 0.07596615804359316\n",
            "Epoch: 2, Batch: 300, Loss: 0.07429313882254064\n",
            "Epoch: 2, Batch: 400, Loss: 0.06752973903901875\n",
            "Epoch: 3, Batch: 100, Loss: 0.05529983914224431\n",
            "Epoch: 3, Batch: 200, Loss: 0.05774302823469043\n",
            "Epoch: 3, Batch: 300, Loss: 0.07082863049115985\n",
            "Epoch: 3, Batch: 400, Loss: 0.06764339688699693\n",
            "Epoch: 4, Batch: 100, Loss: 0.05909679849050008\n",
            "Epoch: 4, Batch: 200, Loss: 0.05443379423348233\n",
            "Epoch: 4, Batch: 300, Loss: 0.05342406851937995\n",
            "Epoch: 4, Batch: 400, Loss: 0.06203249304788187\n",
            "Epoch: 5, Batch: 100, Loss: 0.04073546067113057\n",
            "Epoch: 5, Batch: 200, Loss: 0.04527185146056581\n",
            "Epoch: 5, Batch: 300, Loss: 0.04537499858532101\n",
            "Epoch: 5, Batch: 400, Loss: 0.05380093165906146\n",
            "Accuracy on test set: 0.9814\n",
            "We are training for batch size 128 and learning rate 0.01 and optimiser RMSprop\n",
            "Epoch: 1, Batch: 100, Loss: 2.333337779343128\n",
            "Epoch: 1, Batch: 200, Loss: 0.24742824107408523\n",
            "Epoch: 1, Batch: 300, Loss: 0.1782276152074337\n",
            "Epoch: 1, Batch: 400, Loss: 0.14631640344858168\n",
            "Epoch: 2, Batch: 100, Loss: 0.29054286565631626\n",
            "Epoch: 2, Batch: 200, Loss: 0.10979667264968157\n",
            "Epoch: 2, Batch: 300, Loss: 0.10593868980184197\n",
            "Epoch: 2, Batch: 400, Loss: 0.123086489145644\n",
            "Epoch: 3, Batch: 100, Loss: 0.16737070188857614\n",
            "Epoch: 3, Batch: 200, Loss: 0.09412969848141074\n",
            "Epoch: 3, Batch: 300, Loss: 0.09925422574393451\n",
            "Epoch: 3, Batch: 400, Loss: 0.10128563825041055\n",
            "Epoch: 4, Batch: 100, Loss: 0.09338852635584771\n",
            "Epoch: 4, Batch: 200, Loss: 0.10548428774811328\n",
            "Epoch: 4, Batch: 300, Loss: 0.08522275213617832\n",
            "Epoch: 4, Batch: 400, Loss: 0.08872371036559343\n",
            "Epoch: 5, Batch: 100, Loss: 0.08557258462067693\n",
            "Epoch: 5, Batch: 200, Loss: 0.0831046486273408\n",
            "Epoch: 5, Batch: 300, Loss: 0.08828008641023188\n",
            "Epoch: 5, Batch: 400, Loss: 0.07745322164613754\n",
            "Accuracy on test set: 0.9766\n",
            "We are training for batch size 128 and learning rate 0.01 and optimiser SGD\n",
            "Epoch: 1, Batch: 100, Loss: 2.2993825554847716\n",
            "Epoch: 1, Batch: 200, Loss: 2.2869621682167054\n",
            "Epoch: 1, Batch: 300, Loss: 2.265395839214325\n",
            "Epoch: 1, Batch: 400, Loss: 2.2104043054580687\n",
            "Epoch: 2, Batch: 100, Loss: 1.4556726509332656\n",
            "Epoch: 2, Batch: 200, Loss: 0.7721934294700623\n",
            "Epoch: 2, Batch: 300, Loss: 0.5413041311502457\n",
            "Epoch: 2, Batch: 400, Loss: 0.43921139001846315\n",
            "Epoch: 3, Batch: 100, Loss: 0.34219985350966453\n",
            "Epoch: 3, Batch: 200, Loss: 0.3174083948135376\n",
            "Epoch: 3, Batch: 300, Loss: 0.3009642857313156\n",
            "Epoch: 3, Batch: 400, Loss: 0.27229111462831496\n",
            "Epoch: 4, Batch: 100, Loss: 0.2504580055177212\n",
            "Epoch: 4, Batch: 200, Loss: 0.225254302918911\n",
            "Epoch: 4, Batch: 300, Loss: 0.2171173484623432\n",
            "Epoch: 4, Batch: 400, Loss: 0.1940841341763735\n",
            "Epoch: 5, Batch: 100, Loss: 0.18451876096427441\n",
            "Epoch: 5, Batch: 200, Loss: 0.18004315547645092\n",
            "Epoch: 5, Batch: 300, Loss: 0.17434305481612683\n",
            "Epoch: 5, Batch: 400, Loss: 0.1671331599727273\n",
            "Accuracy on test set: 0.9534\n"
          ]
        }
      ],
      "source": [
        "for batch in batch_size:\n",
        "  train_loader = torch.utils.data.DataLoader(train_dataset, batch_size=batch, shuffle=True)\n",
        "  test_loader = torch.utils.data.DataLoader(test_dataset, batch_size=batch, shuffle=False)\n",
        "\n",
        "  for alpha in learning_rate:\n",
        "    for gd in optimiser:\n",
        "      print(f\"We are training for batch size {batch} and learning rate {alpha} and optimiser {gd}\")\n",
        "\n",
        "      model = LeNet()\n",
        "      criterion = nn.CrossEntropyLoss()\n",
        "      if gd == \"Adam\":\n",
        "        optimizer = optim.Adam(model.parameters(), lr=alpha)\n",
        "        train(model, train_loader, criterion, optimizer)\n",
        "\n",
        "      if gd == \"RMSprop\":\n",
        "        optimizer = optim.RMSprop(model.parameters(), lr=alpha)\n",
        "        train(model, train_loader, criterion, optimizer)\n",
        "\n",
        "      if gd == \"SGD\":\n",
        "        optimizer = optim.SGD(model.parameters(), lr=alpha)\n",
        "        train(model, train_loader, criterion, optimizer)\n",
        "\n",
        "      new_accuracy = evaluate(model, test_loader)\n",
        "      accuracy_array.append(new_accuracy)"
      ]
    },
    {
      "cell_type": "code",
      "execution_count": null,
      "metadata": {
        "colab": {
          "base_uri": "https://localhost:8080/"
        },
        "id": "ACalE6NHQpLA",
        "outputId": "397069f0-6942-406c-af91-aee4614e84fe"
      },
      "outputs": [
        {
          "data": {
            "text/plain": [
              "[0.9892,\n",
              " 0.9883,\n",
              " 0.8733,\n",
              " 0.9802,\n",
              " 0.9782,\n",
              " 0.1327,\n",
              " 0.9725,\n",
              " 0.9474,\n",
              " 0.9795,\n",
              " 0.9888,\n",
              " 0.9865,\n",
              " 0.3258,\n",
              " 0.9753,\n",
              " 0.9688,\n",
              " 0.0842,\n",
              " 0.9814,\n",
              " 0.9747,\n",
              " 0.9708,\n",
              " 0.9892,\n",
              " 0.9904,\n",
              " 0.3739,\n",
              " 0.9621,\n",
              " 0.958,\n",
              " 0.0974,\n",
              " 0.9814,\n",
              " 0.9766,\n",
              " 0.9534]"
            ]
          },
          "execution_count": 29,
          "metadata": {},
          "output_type": "execute_result"
        }
      ],
      "source": [
        "accuracy_array"
      ]
    },
    {
      "cell_type": "markdown",
      "source": [
        "By looking at the accuracies, we can say that the first of all, SGD optimiser is very bad. And further, we can say that increasing learning rate also has a bad impact on the model's training and testing. Batch size did not have much impact on the model."
      ],
      "metadata": {
        "id": "GwxzDZF_-a82"
      }
    },
    {
      "cell_type": "markdown",
      "source": [
        "Now, here we are doubling the convolutional layers of the model."
      ],
      "metadata": {
        "id": "NWy7Iycr_-t-"
      }
    },
    {
      "cell_type": "code",
      "execution_count": null,
      "metadata": {
        "id": "Pfi1Ir0JQrgo"
      },
      "outputs": [],
      "source": [
        "class LeNetNew(nn.Module):\n",
        "    def __init__(self):\n",
        "        super(LeNetNew, self).__init__()\n",
        "        self.conv1 = nn.Conv2d(1, 6, kernel_size=3)\n",
        "        self.conv2 = nn.Conv2d(6, 12, kernel_size=3)  # Doubled the number of filters\n",
        "        self.conv3 = nn.Conv2d(12, 16, kernel_size=3)  # Additional convolutional layer\n",
        "        self.fc1 = nn.Linear(16 * 7 * 7, 120)\n",
        "        self.fc2 = nn.Linear(120, 84)\n",
        "        self.fc3 = nn.Linear(84, 10)\n",
        "\n",
        "    def forward(self, x):\n",
        "        x = torch.relu(self.conv1(x))\n",
        "        x = torch.max_pool2d(x, kernel_size=2, stride=2)   # yaha tak 12 hai size\n",
        "        x = torch.relu(self.conv2(x))\n",
        "        x = torch.max_pool2d(x, kernel_size=2, stride=1)\n",
        "        x = torch.relu(self.conv3(x))  # Additional convolutional layer\n",
        "        x = torch.max_pool2d(x, kernel_size=2, stride=1)\n",
        "        x = x.view(-1, 16 * 7 * 7)\n",
        "        x = torch.relu(self.fc1(x))\n",
        "        x = torch.relu(self.fc2(x))\n",
        "        x = self.fc3(x)\n",
        "        return x"
      ]
    },
    {
      "cell_type": "code",
      "execution_count": null,
      "metadata": {
        "id": "Q1ZJRSkNeuI-"
      },
      "outputs": [],
      "source": [
        "transform = transforms.Compose([\n",
        "    transforms.ToTensor(),\n",
        "    transforms.Normalize((0.5,), (0.5,))\n",
        "])\n",
        "\n",
        "train_dataset = datasets.MNIST(root='./data', train=True, download=True, transform=transform)\n",
        "test_dataset = datasets.MNIST(root='./data', train=False, download=True, transform=transform)\n",
        "\n",
        "train_loader = torch.utils.data.DataLoader(train_dataset, batch_size=64, shuffle=True)\n",
        "test_loader = torch.utils.data.DataLoader(test_dataset, batch_size=64, shuffle=False)"
      ]
    },
    {
      "cell_type": "code",
      "execution_count": null,
      "metadata": {
        "id": "2FIYpzO5e33x"
      },
      "outputs": [],
      "source": [
        "model = LeNetNew()\n",
        "criterion = nn.CrossEntropyLoss()\n",
        "optimizer = optim.Adam(model.parameters(), lr=0.001)"
      ]
    },
    {
      "cell_type": "code",
      "execution_count": null,
      "metadata": {
        "colab": {
          "base_uri": "https://localhost:8080/"
        },
        "id": "hrNs6zXWfDIF",
        "outputId": "7030ade9-b93f-4b74-eb5f-a854f58444eb"
      },
      "outputs": [
        {
          "name": "stdout",
          "output_type": "stream",
          "text": [
            "Epoch: 1, Batch: 100, Loss: 1.1462961107492446\n",
            "Epoch: 1, Batch: 200, Loss: 0.342403824403882\n",
            "Epoch: 1, Batch: 300, Loss: 0.23816611051559447\n",
            "Epoch: 1, Batch: 400, Loss: 0.19316044664010407\n",
            "Epoch: 1, Batch: 500, Loss: 0.15079670991748573\n",
            "Epoch: 1, Batch: 600, Loss: 0.15939251204952598\n",
            "Epoch: 1, Batch: 700, Loss: 0.12920155515894294\n",
            "Epoch: 1, Batch: 800, Loss: 0.10840411154553294\n",
            "Epoch: 1, Batch: 900, Loss: 0.10509810611605644\n",
            "Epoch: 2, Batch: 100, Loss: 0.10199336886405945\n",
            "Epoch: 2, Batch: 200, Loss: 0.08951010951772333\n",
            "Epoch: 2, Batch: 300, Loss: 0.08853879064321518\n",
            "Epoch: 2, Batch: 400, Loss: 0.07551752957515419\n",
            "Epoch: 2, Batch: 500, Loss: 0.07722017226740718\n",
            "Epoch: 2, Batch: 600, Loss: 0.07506508838851005\n",
            "Epoch: 2, Batch: 700, Loss: 0.07370258399751037\n",
            "Epoch: 2, Batch: 800, Loss: 0.0804870923422277\n",
            "Epoch: 2, Batch: 900, Loss: 0.06921251874766313\n",
            "Epoch: 3, Batch: 100, Loss: 0.061856495207175614\n",
            "Epoch: 3, Batch: 200, Loss: 0.061648492091335355\n",
            "Epoch: 3, Batch: 300, Loss: 0.06766898650210351\n",
            "Epoch: 3, Batch: 400, Loss: 0.05008693704847247\n",
            "Epoch: 3, Batch: 500, Loss: 0.05885523146251217\n",
            "Epoch: 3, Batch: 600, Loss: 0.05754682647995651\n",
            "Epoch: 3, Batch: 700, Loss: 0.054337201982270926\n",
            "Epoch: 3, Batch: 800, Loss: 0.06302832210436464\n",
            "Epoch: 3, Batch: 900, Loss: 0.050133421786595134\n",
            "Epoch: 4, Batch: 100, Loss: 0.043683484615758064\n",
            "Epoch: 4, Batch: 200, Loss: 0.04556277386029251\n",
            "Epoch: 4, Batch: 300, Loss: 0.03845638644648716\n",
            "Epoch: 4, Batch: 400, Loss: 0.04811254407046363\n",
            "Epoch: 4, Batch: 500, Loss: 0.049785183953354135\n",
            "Epoch: 4, Batch: 600, Loss: 0.04333475325023756\n",
            "Epoch: 4, Batch: 700, Loss: 0.053805135102011264\n",
            "Epoch: 4, Batch: 800, Loss: 0.0429776452248916\n",
            "Epoch: 4, Batch: 900, Loss: 0.047442970010451974\n",
            "Epoch: 5, Batch: 100, Loss: 0.044915502977673896\n",
            "Epoch: 5, Batch: 200, Loss: 0.03883908808231354\n",
            "Epoch: 5, Batch: 300, Loss: 0.02785874599707313\n",
            "Epoch: 5, Batch: 400, Loss: 0.039770929322112354\n",
            "Epoch: 5, Batch: 500, Loss: 0.039761385804740715\n",
            "Epoch: 5, Batch: 600, Loss: 0.039641661086352545\n",
            "Epoch: 5, Batch: 700, Loss: 0.03492482278146781\n",
            "Epoch: 5, Batch: 800, Loss: 0.036055930473958143\n",
            "Epoch: 5, Batch: 900, Loss: 0.04346993437386118\n"
          ]
        }
      ],
      "source": [
        "train(model, train_loader, criterion, optimizer)"
      ]
    },
    {
      "cell_type": "code",
      "execution_count": null,
      "metadata": {
        "colab": {
          "base_uri": "https://localhost:8080/"
        },
        "id": "DLA4DmG6fSs4",
        "outputId": "55223215-d098-40e2-a33c-9c59004a07b8"
      },
      "outputs": [
        {
          "name": "stdout",
          "output_type": "stream",
          "text": [
            "Accuracy on test set: 0.9891\n"
          ]
        }
      ],
      "source": [
        "new_accuracy = evaluate(model, test_loader)"
      ]
    },
    {
      "cell_type": "markdown",
      "source": [
        "Performance of the model did not change much attributing to the fact that the earlier model was already performing very well and at the same time, this will just increase the computation cost of the network."
      ],
      "metadata": {
        "id": "okyyxR59AH2O"
      }
    },
    {
      "cell_type": "markdown",
      "source": [
        "Now, we are training the model using different number of training examples."
      ],
      "metadata": {
        "id": "zJmvfR_jAb2M"
      }
    },
    {
      "cell_type": "code",
      "execution_count": null,
      "metadata": {
        "colab": {
          "base_uri": "https://localhost:8080/"
        },
        "id": "Yl4SsPBaedwl",
        "outputId": "d13158a5-9c59-4d6b-8464-5505aa9bc53c"
      },
      "outputs": [
        {
          "name": "stdout",
          "output_type": "stream",
          "text": [
            "Accuracy on test set: 0.7657\n",
            "Accuracy on test set: 0.8928\n",
            "Accuracy on test set: 0.9618\n",
            "Epoch: 1, Batch: 100, Loss: 1.2360245981812477\n",
            "Epoch: 1, Batch: 200, Loss: 0.3340280335396528\n",
            "Epoch: 2, Batch: 100, Loss: 0.1788882625848055\n",
            "Epoch: 2, Batch: 200, Loss: 0.15048644799739122\n",
            "Epoch: 3, Batch: 100, Loss: 0.10802443316206337\n",
            "Epoch: 3, Batch: 200, Loss: 0.1029364775121212\n",
            "Epoch: 4, Batch: 100, Loss: 0.08534483942668886\n",
            "Epoch: 4, Batch: 200, Loss: 0.08105941003654152\n",
            "Epoch: 5, Batch: 100, Loss: 0.06556883805897087\n",
            "Epoch: 5, Batch: 200, Loss: 0.06466560585424304\n",
            "Accuracy on test set: 0.9778\n",
            "Epoch: 1, Batch: 100, Loss: 0.9825057207047939\n",
            "Epoch: 1, Batch: 200, Loss: 0.27575979836285114\n",
            "Epoch: 1, Batch: 300, Loss: 0.20904371090233326\n",
            "Epoch: 1, Batch: 400, Loss: 0.17206484131515026\n",
            "Epoch: 1, Batch: 500, Loss: 0.1430321492627263\n",
            "Epoch: 1, Batch: 600, Loss: 0.12676506008952856\n",
            "Epoch: 1, Batch: 700, Loss: 0.11147097826004028\n",
            "Epoch: 1, Batch: 800, Loss: 0.09732945872470737\n",
            "Epoch: 1, Batch: 900, Loss: 0.0934712246619165\n",
            "Epoch: 2, Batch: 100, Loss: 0.08186509628780186\n",
            "Epoch: 2, Batch: 200, Loss: 0.0762603172287345\n",
            "Epoch: 2, Batch: 300, Loss: 0.08147746263537556\n",
            "Epoch: 2, Batch: 400, Loss: 0.07730740173719823\n",
            "Epoch: 2, Batch: 500, Loss: 0.052693761386908594\n",
            "Epoch: 2, Batch: 600, Loss: 0.058892911178991196\n",
            "Epoch: 2, Batch: 700, Loss: 0.07250823260750622\n",
            "Epoch: 2, Batch: 800, Loss: 0.06975252370350063\n",
            "Epoch: 2, Batch: 900, Loss: 0.06828371769515798\n",
            "Epoch: 3, Batch: 100, Loss: 0.05414075951091945\n",
            "Epoch: 3, Batch: 200, Loss: 0.040515926606021824\n",
            "Epoch: 3, Batch: 300, Loss: 0.05683039396535605\n",
            "Epoch: 3, Batch: 400, Loss: 0.056199206255842\n",
            "Epoch: 3, Batch: 500, Loss: 0.05186680826591328\n",
            "Epoch: 3, Batch: 600, Loss: 0.038078911706106736\n",
            "Epoch: 3, Batch: 700, Loss: 0.05588406578637659\n",
            "Epoch: 3, Batch: 800, Loss: 0.040859899449860675\n",
            "Epoch: 3, Batch: 900, Loss: 0.05153502531466074\n",
            "Epoch: 4, Batch: 100, Loss: 0.038281010258942844\n",
            "Epoch: 4, Batch: 200, Loss: 0.04064327047439292\n",
            "Epoch: 4, Batch: 300, Loss: 0.034610337004996834\n",
            "Epoch: 4, Batch: 400, Loss: 0.03152213835390285\n",
            "Epoch: 4, Batch: 500, Loss: 0.040103023772826416\n",
            "Epoch: 4, Batch: 600, Loss: 0.04184810571256094\n",
            "Epoch: 4, Batch: 700, Loss: 0.032247192812501456\n",
            "Epoch: 4, Batch: 800, Loss: 0.04689136394532398\n",
            "Epoch: 4, Batch: 900, Loss: 0.04026308567437809\n",
            "Epoch: 5, Batch: 100, Loss: 0.02825239969708491\n",
            "Epoch: 5, Batch: 200, Loss: 0.03382338265102589\n",
            "Epoch: 5, Batch: 300, Loss: 0.033127869953168555\n",
            "Epoch: 5, Batch: 400, Loss: 0.03871350580069702\n",
            "Epoch: 5, Batch: 500, Loss: 0.02605183353764005\n",
            "Epoch: 5, Batch: 600, Loss: 0.03357999652158469\n",
            "Epoch: 5, Batch: 700, Loss: 0.03844379454036243\n",
            "Epoch: 5, Batch: 800, Loss: 0.036297730868682265\n",
            "Epoch: 5, Batch: 900, Loss: 0.03414037648355588\n",
            "Accuracy on test set: 0.9877\n"
          ]
        }
      ],
      "source": [
        "training_examples = [600, 1800, 6000, 18000, 60000]\n",
        "\n",
        "accuracies_final = []\n",
        "\n",
        "for i in training_examples:\n",
        "  transform = transforms.Compose([\n",
        "    transforms.ToTensor(),\n",
        "    transforms.Normalize((0.5,), (0.5,))\n",
        "  ])\n",
        "\n",
        "  full_train_dataset = datasets.MNIST(root='./data', train=True, download=True, transform=transform)\n",
        "  test_dataset = datasets.MNIST(root='./data', train=False, download=True, transform=transform)\n",
        "\n",
        "  subset_indices = range(i)\n",
        "  train_subset = torch.utils.data.Subset(full_train_dataset, subset_indices)\n",
        "\n",
        "  train_loader = torch.utils.data.DataLoader(train_subset, batch_size=64, shuffle=True)\n",
        "  test_loader = torch.utils.data.DataLoader(test_dataset, batch_size=64, shuffle=False)\n",
        "\n",
        "  model = LeNet()\n",
        "  criterion = nn.CrossEntropyLoss()\n",
        "  optimizer = optim.Adam(model.parameters(), lr=0.001)\n",
        "\n",
        "  train(model, train_loader, criterion, optimizer)\n",
        "  new_accuracy = evaluate(model, test_loader)\n",
        "  accuracies_final.append(new_accuracy)"
      ]
    },
    {
      "cell_type": "markdown",
      "source": [
        "So, more the number of examples, more the model learns from it."
      ],
      "metadata": {
        "id": "OCmkkVRsAhhB"
      }
    },
    {
      "cell_type": "code",
      "execution_count": null,
      "metadata": {
        "colab": {
          "base_uri": "https://localhost:8080/"
        },
        "id": "56cJrtGMfvq6",
        "outputId": "3f2e9146-7a03-45fe-c6c7-0542e54a4ed8"
      },
      "outputs": [
        {
          "data": {
            "text/plain": [
              "[0.7657, 0.8928, 0.9618, 0.9778, 0.9877]"
            ]
          },
          "execution_count": 24,
          "metadata": {},
          "output_type": "execute_result"
        }
      ],
      "source": [
        "accuracies_final"
      ]
    },
    {
      "cell_type": "markdown",
      "source": [
        "Now, we are making a VIT tranformer which will take in the same data set. The nnumer of encoding layers will 2.<br>Here, we convert the image firsly into image patches then converted them into vector embeddings basically getting the features and then further adding the positional encodings to the embeddings. Further these are sent into the encoding layer and rich embeddings are generated. Out of these rich embeddings as output, we make a cls token which represents the generalised representation of the output sequence."
      ],
      "metadata": {
        "id": "BVca8LLfAnaW"
      }
    },
    {
      "cell_type": "code",
      "execution_count": null,
      "metadata": {
        "id": "aX2jkNQAg2us"
      },
      "outputs": [],
      "source": [
        "import torch\n",
        "import torch.nn as nn\n",
        "import torchvision\n",
        "import torchvision.transforms as transforms\n",
        "\n",
        "# Define the hyperparameters\n",
        "batch_size = 64\n",
        "num_classes = 10\n",
        "patch_size = 7\n",
        "num_patches = (28 // patch_size) ** 2\n",
        "embedding_dim = 64\n",
        "num_heads = 4\n",
        "num_layers = 2\n",
        "dropout = 0.1\n",
        "\n",
        "# Define the ViT-style Transformer Encoder model\n",
        "class TransformerEncoder(nn.Module):\n",
        "    def __init__(self):\n",
        "        super(TransformerEncoder, self).__init__()\n",
        "        self.patch_embedding = nn.Conv2d(1, embedding_dim, kernel_size=patch_size, stride=patch_size)\n",
        "        self.position_embedding = nn.Parameter(torch.randn(1, num_patches + 1, embedding_dim))\n",
        "        self.cls_token = nn.Parameter(torch.randn(1, 1, embedding_dim))\n",
        "        self.dropout = nn.Dropout(dropout)\n",
        "\n",
        "        encoder_layer = nn.TransformerEncoderLayer(d_model=embedding_dim, nhead=num_heads, dim_feedforward=embedding_dim * 4, dropout=dropout, batch_first=True)\n",
        "        self.transformer_encoder = nn.TransformerEncoder(encoder_layer, num_layers=num_layers)\n",
        "\n",
        "        self.fc = nn.Linear(embedding_dim, num_classes)\n",
        "\n",
        "    def forward(self, x):\n",
        "        # Patch embedding\n",
        "        x = self.patch_embedding(x)\n",
        "        x = x.flatten(2).transpose(1, 2)\n",
        "\n",
        "        # Add class token and position embedding\n",
        "        cls_token = self.cls_token.expand(x.shape[0], -1, -1)\n",
        "        x = torch.cat((cls_token, x), dim=1)\n",
        "        x = x + self.position_embedding\n",
        "\n",
        "        # Transformer encoder\n",
        "        x = self.dropout(x)\n",
        "        x = self.transformer_encoder(x)\n",
        "\n",
        "        # Classification\n",
        "        cls_token = x[:, 0]\n",
        "        x = self.fc(cls_token)\n",
        "\n",
        "        return x"
      ]
    },
    {
      "cell_type": "code",
      "source": [
        "# Define the data transformations\n",
        "transform = transforms.Compose([\n",
        "    transforms.ToTensor(),\n",
        "    transforms.Normalize((0.1307,), (0.3081,))\n",
        "])\n",
        "\n",
        "# Load the MNIST dataset\n",
        "train_dataset = torchvision.datasets.MNIST(root='./data', train=True, download=True, transform=transform)\n",
        "test_dataset = torchvision.datasets.MNIST(root='./data', train=False, download=True, transform=transform)\n",
        "\n",
        "# Create data loaders\n",
        "train_loader = torch.utils.data.DataLoader(train_dataset, batch_size=batch_size, shuffle=True)\n",
        "test_loader = torch.utils.data.DataLoader(test_dataset, batch_size=batch_size, shuffle=False)"
      ],
      "metadata": {
        "id": "-1uxACDw1YXS"
      },
      "execution_count": null,
      "outputs": []
    },
    {
      "cell_type": "code",
      "source": [
        "# Create the model instance\n",
        "model = TransformerEncoder()\n",
        "criterion = nn.CrossEntropyLoss()\n",
        "optimizer = torch.optim.Adam(model.parameters(), lr=0.001)"
      ],
      "metadata": {
        "id": "o_IL770y1h1P"
      },
      "execution_count": null,
      "outputs": []
    },
    {
      "cell_type": "code",
      "source": [
        "num_epochs = 10\n",
        "for epoch in range(num_epochs):\n",
        "    running_loss = 0.0\n",
        "    for i, (images, labels) in enumerate(train_loader):\n",
        "        optimizer.zero_grad()\n",
        "        outputs = model(images)\n",
        "        loss = criterion(outputs, labels)\n",
        "        loss.backward()\n",
        "        optimizer.step()\n",
        "        running_loss += loss.item()\n",
        "\n",
        "        if i % 100 == 99:\n",
        "            print(f'Epoch [{epoch + 1}/{num_epochs}], Step [{i + 1}/{len(train_loader)}], Loss: {running_loss / 100:.3f}')\n",
        "            running_loss = 0.0"
      ],
      "metadata": {
        "colab": {
          "base_uri": "https://localhost:8080/"
        },
        "id": "K2ztq01L1lmy",
        "outputId": "fea0fc83-c5e5-4594-9090-5077daa028d0"
      },
      "execution_count": null,
      "outputs": [
        {
          "output_type": "stream",
          "name": "stdout",
          "text": [
            "Epoch [1/10], Step [100/938], Loss: 1.438\n",
            "Epoch [1/10], Step [200/938], Loss: 0.665\n",
            "Epoch [1/10], Step [300/938], Loss: 0.493\n",
            "Epoch [1/10], Step [400/938], Loss: 0.421\n",
            "Epoch [1/10], Step [500/938], Loss: 0.379\n",
            "Epoch [1/10], Step [600/938], Loss: 0.361\n",
            "Epoch [1/10], Step [700/938], Loss: 0.341\n",
            "Epoch [1/10], Step [800/938], Loss: 0.328\n",
            "Epoch [1/10], Step [900/938], Loss: 0.292\n",
            "Epoch [2/10], Step [100/938], Loss: 0.277\n",
            "Epoch [2/10], Step [200/938], Loss: 0.266\n",
            "Epoch [2/10], Step [300/938], Loss: 0.272\n",
            "Epoch [2/10], Step [400/938], Loss: 0.269\n",
            "Epoch [2/10], Step [500/938], Loss: 0.225\n",
            "Epoch [2/10], Step [600/938], Loss: 0.222\n",
            "Epoch [2/10], Step [700/938], Loss: 0.229\n",
            "Epoch [2/10], Step [800/938], Loss: 0.218\n",
            "Epoch [2/10], Step [900/938], Loss: 0.230\n",
            "Epoch [3/10], Step [100/938], Loss: 0.203\n",
            "Epoch [3/10], Step [200/938], Loss: 0.200\n",
            "Epoch [3/10], Step [300/938], Loss: 0.209\n",
            "Epoch [3/10], Step [400/938], Loss: 0.207\n",
            "Epoch [3/10], Step [500/938], Loss: 0.196\n",
            "Epoch [3/10], Step [600/938], Loss: 0.195\n",
            "Epoch [3/10], Step [700/938], Loss: 0.191\n",
            "Epoch [3/10], Step [800/938], Loss: 0.184\n",
            "Epoch [3/10], Step [900/938], Loss: 0.180\n",
            "Epoch [4/10], Step [100/938], Loss: 0.173\n",
            "Epoch [4/10], Step [200/938], Loss: 0.182\n",
            "Epoch [4/10], Step [300/938], Loss: 0.172\n",
            "Epoch [4/10], Step [400/938], Loss: 0.178\n",
            "Epoch [4/10], Step [500/938], Loss: 0.160\n",
            "Epoch [4/10], Step [600/938], Loss: 0.175\n",
            "Epoch [4/10], Step [700/938], Loss: 0.160\n",
            "Epoch [4/10], Step [800/938], Loss: 0.177\n",
            "Epoch [4/10], Step [900/938], Loss: 0.150\n",
            "Epoch [5/10], Step [100/938], Loss: 0.145\n",
            "Epoch [5/10], Step [200/938], Loss: 0.153\n",
            "Epoch [5/10], Step [300/938], Loss: 0.151\n",
            "Epoch [5/10], Step [400/938], Loss: 0.162\n",
            "Epoch [5/10], Step [500/938], Loss: 0.155\n",
            "Epoch [5/10], Step [600/938], Loss: 0.150\n",
            "Epoch [5/10], Step [700/938], Loss: 0.145\n",
            "Epoch [5/10], Step [800/938], Loss: 0.154\n",
            "Epoch [5/10], Step [900/938], Loss: 0.151\n",
            "Epoch [6/10], Step [100/938], Loss: 0.135\n",
            "Epoch [6/10], Step [200/938], Loss: 0.140\n",
            "Epoch [6/10], Step [300/938], Loss: 0.142\n",
            "Epoch [6/10], Step [400/938], Loss: 0.134\n",
            "Epoch [6/10], Step [500/938], Loss: 0.136\n",
            "Epoch [6/10], Step [600/938], Loss: 0.134\n",
            "Epoch [6/10], Step [700/938], Loss: 0.138\n",
            "Epoch [6/10], Step [800/938], Loss: 0.133\n",
            "Epoch [6/10], Step [900/938], Loss: 0.139\n",
            "Epoch [7/10], Step [100/938], Loss: 0.131\n",
            "Epoch [7/10], Step [200/938], Loss: 0.129\n",
            "Epoch [7/10], Step [300/938], Loss: 0.134\n",
            "Epoch [7/10], Step [400/938], Loss: 0.126\n",
            "Epoch [7/10], Step [500/938], Loss: 0.133\n",
            "Epoch [7/10], Step [600/938], Loss: 0.126\n",
            "Epoch [7/10], Step [700/938], Loss: 0.119\n",
            "Epoch [7/10], Step [800/938], Loss: 0.122\n",
            "Epoch [7/10], Step [900/938], Loss: 0.120\n",
            "Epoch [8/10], Step [100/938], Loss: 0.118\n",
            "Epoch [8/10], Step [200/938], Loss: 0.124\n",
            "Epoch [8/10], Step [300/938], Loss: 0.123\n",
            "Epoch [8/10], Step [400/938], Loss: 0.127\n",
            "Epoch [8/10], Step [500/938], Loss: 0.121\n",
            "Epoch [8/10], Step [600/938], Loss: 0.124\n",
            "Epoch [8/10], Step [700/938], Loss: 0.119\n",
            "Epoch [8/10], Step [800/938], Loss: 0.121\n",
            "Epoch [8/10], Step [900/938], Loss: 0.123\n",
            "Epoch [9/10], Step [100/938], Loss: 0.111\n",
            "Epoch [9/10], Step [200/938], Loss: 0.118\n",
            "Epoch [9/10], Step [300/938], Loss: 0.107\n",
            "Epoch [9/10], Step [400/938], Loss: 0.122\n",
            "Epoch [9/10], Step [500/938], Loss: 0.110\n",
            "Epoch [9/10], Step [600/938], Loss: 0.114\n",
            "Epoch [9/10], Step [700/938], Loss: 0.114\n",
            "Epoch [9/10], Step [800/938], Loss: 0.117\n",
            "Epoch [9/10], Step [900/938], Loss: 0.134\n",
            "Epoch [10/10], Step [100/938], Loss: 0.106\n",
            "Epoch [10/10], Step [200/938], Loss: 0.116\n",
            "Epoch [10/10], Step [300/938], Loss: 0.094\n",
            "Epoch [10/10], Step [400/938], Loss: 0.115\n",
            "Epoch [10/10], Step [500/938], Loss: 0.101\n",
            "Epoch [10/10], Step [600/938], Loss: 0.102\n",
            "Epoch [10/10], Step [700/938], Loss: 0.121\n",
            "Epoch [10/10], Step [800/938], Loss: 0.108\n",
            "Epoch [10/10], Step [900/938], Loss: 0.119\n"
          ]
        }
      ]
    },
    {
      "cell_type": "code",
      "source": [
        "# Test the model\n",
        "correct = 0\n",
        "total = 0\n",
        "with torch.no_grad():\n",
        "    for images, labels in test_loader:\n",
        "        outputs = model(images)\n",
        "        _, predicted = torch.max(outputs.data, 1)\n",
        "        total += labels.size(0)\n",
        "        correct += (predicted == labels).sum().item()\n",
        "\n",
        "print(f'Accuracy on the test set: {100 * correct / total:.2f}%')\n"
      ],
      "metadata": {
        "colab": {
          "base_uri": "https://localhost:8080/"
        },
        "id": "JGj0a8dG1uj8",
        "outputId": "b279deff-1a0b-4c2d-e31a-e34c6ea5027e"
      },
      "execution_count": null,
      "outputs": [
        {
          "output_type": "stream",
          "name": "stdout",
          "text": [
            "Accuracy on the test set: 96.41%\n"
          ]
        }
      ]
    },
    {
      "cell_type": "markdown",
      "source": [
        "The accuracy is similar to that of a CNN model, but the time taken to train this model is more. So transformer is basically better than CNN as it applies the concept of multi-head attention but it is computationally more expensive to train."
      ],
      "metadata": {
        "id": "xpMFZZK1BUQZ"
      }
    },
    {
      "cell_type": "code",
      "source": [],
      "metadata": {
        "id": "W9vU-kge8DwZ"
      },
      "execution_count": null,
      "outputs": []
    }
  ],
  "metadata": {
    "colab": {
      "provenance": []
    },
    "kernelspec": {
      "display_name": "Python 3",
      "name": "python3"
    },
    "language_info": {
      "name": "python"
    }
  },
  "nbformat": 4,
  "nbformat_minor": 0
}